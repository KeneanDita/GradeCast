{
 "cells": [
  {
   "cell_type": "code",
   "execution_count": 34,
   "id": "308b162a-a648-4e5d-acaf-9358350cff5e",
   "metadata": {},
   "outputs": [],
   "source": [
    "import numpy as np \n",
    "import pandas as pd \n",
    "import matplotlib.pyplot as plt \n",
    "import seaborn as sns\n",
    "import pickle\n",
    "import os\n",
    "from sklearn.ensemble import RandomForestClassifier\n",
    "from sklearn.linear_model import LogisticRegression\n",
    "from sklearn.preprocessing import StandardScaler\n",
    "from sklearn.model_selection import train_test_split\n",
    "from sklearn.ensemble import RandomForestRegressor\n",
    "from sklearn.metrics import mean_squared_error, r2_score\n",
    "from sklearn.preprocessing import LabelEncoder"
   ]
  },
  {
   "cell_type": "code",
   "execution_count": 2,
   "id": "1334c3b4-c5b8-42be-8182-df1be2cd4d03",
   "metadata": {},
   "outputs": [
    {
     "name": "stdout",
     "output_type": "stream",
     "text": [
      "Data Head:\n"
     ]
    },
    {
     "data": {
      "application/vnd.dataresource+json": {
       "data": [
        {
         "activity_score": 3.68,
         "attendance": 88,
         "avg_current_grade": 5.71,
         "certificates": 3.36,
         "cgpa": 8.24,
         "department": "ME",
         "extra_curricular": 3,
         "gender": "F",
         "gpa_sem1": 5.69,
         "gpa_sem2": 7.28,
         "grade_trend": 1.59,
         "index": 0,
         "internships": 4,
         "library_usage": 9,
         "project_involvement": 0,
         "residence": "Rural",
         "risk_level": 0,
         "school_type": "Private",
         "year": "3rd"
        },
        {
         "activity_score": 5.72,
         "attendance": 78,
         "avg_current_grade": 6.18,
         "certificates": 5.43,
         "cgpa": 6.37,
         "department": "EE",
         "extra_curricular": 1,
         "gender": "F",
         "gpa_sem1": 7.43,
         "gpa_sem2": 6.86,
         "grade_trend": -0.57,
         "index": 1,
         "internships": 6,
         "library_usage": 23,
         "project_involvement": 1,
         "residence": "Rural",
         "risk_level": 0,
         "school_type": "Private",
         "year": "2nd"
        },
        {
         "activity_score": 2.96,
         "attendance": 64,
         "avg_current_grade": 6.79,
         "certificates": 1.92,
         "cgpa": 5.89,
         "department": "ME",
         "extra_curricular": 5,
         "gender": "M",
         "gpa_sem1": 9.23,
         "gpa_sem2": 5.57,
         "grade_trend": -3.66,
         "index": 2,
         "internships": 4,
         "library_usage": 7,
         "project_involvement": 1,
         "residence": "Urban",
         "risk_level": 1,
         "school_type": "Government",
         "year": "1st"
        },
        {
         "activity_score": 5.68,
         "attendance": 92,
         "avg_current_grade": 9.87,
         "certificates": 5.37,
         "cgpa": 6.47,
         "department": "IT",
         "extra_curricular": 5,
         "gender": "F",
         "gpa_sem1": 5.5,
         "gpa_sem2": 6.15,
         "grade_trend": 0.65,
         "index": 3,
         "internships": 6,
         "library_usage": 5,
         "project_involvement": 1,
         "residence": "Rural",
         "risk_level": 0,
         "school_type": "Private",
         "year": "3rd"
        },
        {
         "activity_score": 2.4,
         "attendance": 57,
         "avg_current_grade": 5.03,
         "certificates": 2.79,
         "cgpa": 5.57,
         "department": "IT",
         "extra_curricular": 10,
         "gender": "F",
         "gpa_sem1": 8.39,
         "gpa_sem2": 6.02,
         "grade_trend": -2.37,
         "index": 4,
         "internships": 2,
         "library_usage": 19,
         "project_involvement": 1,
         "residence": "Urban",
         "risk_level": 2,
         "school_type": "Government",
         "year": "1st"
        }
       ],
       "schema": {
        "fields": [
         {
          "name": "index",
          "type": "integer"
         },
         {
          "name": "attendance",
          "type": "integer"
         },
         {
          "name": "cgpa",
          "type": "number"
         },
         {
          "name": "avg_current_grade",
          "type": "number"
         },
         {
          "name": "certificates",
          "type": "number"
         },
         {
          "name": "internships",
          "type": "integer"
         },
         {
          "name": "department",
          "type": "string"
         },
         {
          "name": "year",
          "type": "string"
         },
         {
          "name": "gender",
          "type": "string"
         },
         {
          "name": "residence",
          "type": "string"
         },
         {
          "name": "school_type",
          "type": "string"
         },
         {
          "name": "extra_curricular",
          "type": "integer"
         },
         {
          "name": "library_usage",
          "type": "integer"
         },
         {
          "name": "project_involvement",
          "type": "integer"
         },
         {
          "name": "activity_score",
          "type": "number"
         },
         {
          "name": "gpa_sem1",
          "type": "number"
         },
         {
          "name": "gpa_sem2",
          "type": "number"
         },
         {
          "name": "grade_trend",
          "type": "number"
         },
         {
          "name": "risk_level",
          "type": "integer"
         }
        ],
        "pandas_version": "1.4.0",
        "primaryKey": [
         "index"
        ]
       }
      },
      "text/html": [
       "<div>\n",
       "<style scoped>\n",
       "    .dataframe tbody tr th:only-of-type {\n",
       "        vertical-align: middle;\n",
       "    }\n",
       "\n",
       "    .dataframe tbody tr th {\n",
       "        vertical-align: top;\n",
       "    }\n",
       "\n",
       "    .dataframe thead th {\n",
       "        text-align: right;\n",
       "    }\n",
       "</style>\n",
       "<table border=\"1\" class=\"dataframe\">\n",
       "  <thead>\n",
       "    <tr style=\"text-align: right;\">\n",
       "      <th></th>\n",
       "      <th>attendance</th>\n",
       "      <th>cgpa</th>\n",
       "      <th>avg_current_grade</th>\n",
       "      <th>certificates</th>\n",
       "      <th>internships</th>\n",
       "      <th>department</th>\n",
       "      <th>year</th>\n",
       "      <th>gender</th>\n",
       "      <th>residence</th>\n",
       "      <th>school_type</th>\n",
       "      <th>extra_curricular</th>\n",
       "      <th>library_usage</th>\n",
       "      <th>project_involvement</th>\n",
       "      <th>activity_score</th>\n",
       "      <th>gpa_sem1</th>\n",
       "      <th>gpa_sem2</th>\n",
       "      <th>grade_trend</th>\n",
       "      <th>risk_level</th>\n",
       "    </tr>\n",
       "  </thead>\n",
       "  <tbody>\n",
       "    <tr>\n",
       "      <th>0</th>\n",
       "      <td>88</td>\n",
       "      <td>8.24</td>\n",
       "      <td>5.71</td>\n",
       "      <td>3.36</td>\n",
       "      <td>4</td>\n",
       "      <td>ME</td>\n",
       "      <td>3rd</td>\n",
       "      <td>F</td>\n",
       "      <td>Rural</td>\n",
       "      <td>Private</td>\n",
       "      <td>3</td>\n",
       "      <td>9</td>\n",
       "      <td>0</td>\n",
       "      <td>3.68</td>\n",
       "      <td>5.69</td>\n",
       "      <td>7.28</td>\n",
       "      <td>1.59</td>\n",
       "      <td>0</td>\n",
       "    </tr>\n",
       "    <tr>\n",
       "      <th>1</th>\n",
       "      <td>78</td>\n",
       "      <td>6.37</td>\n",
       "      <td>6.18</td>\n",
       "      <td>5.43</td>\n",
       "      <td>6</td>\n",
       "      <td>EE</td>\n",
       "      <td>2nd</td>\n",
       "      <td>F</td>\n",
       "      <td>Rural</td>\n",
       "      <td>Private</td>\n",
       "      <td>1</td>\n",
       "      <td>23</td>\n",
       "      <td>1</td>\n",
       "      <td>5.72</td>\n",
       "      <td>7.43</td>\n",
       "      <td>6.86</td>\n",
       "      <td>-0.57</td>\n",
       "      <td>0</td>\n",
       "    </tr>\n",
       "    <tr>\n",
       "      <th>2</th>\n",
       "      <td>64</td>\n",
       "      <td>5.89</td>\n",
       "      <td>6.79</td>\n",
       "      <td>1.92</td>\n",
       "      <td>4</td>\n",
       "      <td>ME</td>\n",
       "      <td>1st</td>\n",
       "      <td>M</td>\n",
       "      <td>Urban</td>\n",
       "      <td>Government</td>\n",
       "      <td>5</td>\n",
       "      <td>7</td>\n",
       "      <td>1</td>\n",
       "      <td>2.96</td>\n",
       "      <td>9.23</td>\n",
       "      <td>5.57</td>\n",
       "      <td>-3.66</td>\n",
       "      <td>1</td>\n",
       "    </tr>\n",
       "    <tr>\n",
       "      <th>3</th>\n",
       "      <td>92</td>\n",
       "      <td>6.47</td>\n",
       "      <td>9.87</td>\n",
       "      <td>5.37</td>\n",
       "      <td>6</td>\n",
       "      <td>IT</td>\n",
       "      <td>3rd</td>\n",
       "      <td>F</td>\n",
       "      <td>Rural</td>\n",
       "      <td>Private</td>\n",
       "      <td>5</td>\n",
       "      <td>5</td>\n",
       "      <td>1</td>\n",
       "      <td>5.68</td>\n",
       "      <td>5.50</td>\n",
       "      <td>6.15</td>\n",
       "      <td>0.65</td>\n",
       "      <td>0</td>\n",
       "    </tr>\n",
       "    <tr>\n",
       "      <th>4</th>\n",
       "      <td>57</td>\n",
       "      <td>5.57</td>\n",
       "      <td>5.03</td>\n",
       "      <td>2.79</td>\n",
       "      <td>2</td>\n",
       "      <td>IT</td>\n",
       "      <td>1st</td>\n",
       "      <td>F</td>\n",
       "      <td>Urban</td>\n",
       "      <td>Government</td>\n",
       "      <td>10</td>\n",
       "      <td>19</td>\n",
       "      <td>1</td>\n",
       "      <td>2.40</td>\n",
       "      <td>8.39</td>\n",
       "      <td>6.02</td>\n",
       "      <td>-2.37</td>\n",
       "      <td>2</td>\n",
       "    </tr>\n",
       "  </tbody>\n",
       "</table>\n",
       "</div>"
      ],
      "text/plain": [
       "   attendance  cgpa  avg_current_grade  certificates  internships department  \\\n",
       "0          88  8.24               5.71          3.36            4         ME   \n",
       "1          78  6.37               6.18          5.43            6         EE   \n",
       "2          64  5.89               6.79          1.92            4         ME   \n",
       "3          92  6.47               9.87          5.37            6         IT   \n",
       "4          57  5.57               5.03          2.79            2         IT   \n",
       "\n",
       "  year gender residence school_type  extra_curricular  library_usage  \\\n",
       "0  3rd      F     Rural     Private                 3              9   \n",
       "1  2nd      F     Rural     Private                 1             23   \n",
       "2  1st      M     Urban  Government                 5              7   \n",
       "3  3rd      F     Rural     Private                 5              5   \n",
       "4  1st      F     Urban  Government                10             19   \n",
       "\n",
       "   project_involvement  activity_score  gpa_sem1  gpa_sem2  grade_trend  \\\n",
       "0                    0            3.68      5.69      7.28         1.59   \n",
       "1                    1            5.72      7.43      6.86        -0.57   \n",
       "2                    1            2.96      9.23      5.57        -3.66   \n",
       "3                    1            5.68      5.50      6.15         0.65   \n",
       "4                    1            2.40      8.39      6.02        -2.37   \n",
       "\n",
       "   risk_level  \n",
       "0           0  \n",
       "1           0  \n",
       "2           1  \n",
       "3           0  \n",
       "4           2  "
      ]
     },
     "execution_count": 2,
     "metadata": {},
     "output_type": "execute_result"
    },
    {
     "name": "stdout",
     "output_type": "stream",
     "text": [
      "Data Shape:\n"
     ]
    },
    {
     "data": {
      "text/plain": [
       "(5786, 18)"
      ]
     },
     "execution_count": 2,
     "metadata": {},
     "output_type": "execute_result"
    },
    {
     "name": "stdout",
     "output_type": "stream",
     "text": [
      "Data Description:\n"
     ]
    },
    {
     "data": {
      "application/vnd.dataresource+json": {
       "data": [
        {
         "activity_score": 5786,
         "attendance": 5786,
         "avg_current_grade": 5786,
         "certificates": 5786,
         "cgpa": 5786,
         "extra_curricular": 5786,
         "gpa_sem1": 5786,
         "gpa_sem2": 5786,
         "grade_trend": 5786,
         "index": "count",
         "internships": 5786,
         "library_usage": 5786,
         "project_involvement": 5786,
         "risk_level": 5786
        },
        {
         "activity_score": 4.9862288282,
         "attendance": 74.6978914622,
         "avg_current_grade": 7.0096785344,
         "certificates": 4.9553508469,
         "cgpa": 7.4825095057,
         "extra_curricular": 5.0326650536,
         "gpa_sem1": 7.5226149326,
         "gpa_sem2": 7.4988938818,
         "grade_trend": -0.0237210508,
         "index": "mean",
         "internships": 5.0172830971,
         "library_usage": 12.0646387833,
         "project_involvement": 0.5082958866,
         "risk_level": 0.506049084
        },
        {
         "activity_score": 2.2233511313,
         "attendance": 14.3501581143,
         "avg_current_grade": 1.7239528457,
         "certificates": 2.882992951,
         "cgpa": 1.4458736902,
         "extra_curricular": 3.1560077378,
         "gpa_sem1": 1.4414672334,
         "gpa_sem2": 1.4373732597,
         "grade_trend": 2.0590649373,
         "index": "std",
         "internships": 3.4052243072,
         "library_usage": 7.2432226254,
         "project_involvement": 0.4999743809,
         "risk_level": 0.6261774778
        },
        {
         "activity_score": 0,
         "attendance": 50,
         "avg_current_grade": 4,
         "certificates": 0,
         "cgpa": 5,
         "extra_curricular": 0,
         "gpa_sem1": 5,
         "gpa_sem2": 5,
         "grade_trend": -4.92,
         "index": "min",
         "internships": 0,
         "library_usage": 0,
         "project_involvement": 0,
         "risk_level": 0
        },
        {
         "activity_score": 3.35,
         "attendance": 62,
         "avg_current_grade": 5.54,
         "certificates": 2.45,
         "cgpa": 6.25,
         "extra_curricular": 2,
         "gpa_sem1": 6.29,
         "gpa_sem2": 6.28,
         "grade_trend": -1.51,
         "index": "25%",
         "internships": 2,
         "library_usage": 6,
         "project_involvement": 0,
         "risk_level": 0
        },
        {
         "activity_score": 4.96,
         "attendance": 75,
         "avg_current_grade": 7.01,
         "certificates": 4.94,
         "cgpa": 7.5,
         "extra_curricular": 5,
         "gpa_sem1": 7.55,
         "gpa_sem2": 7.47,
         "grade_trend": -0.02,
         "index": "50%",
         "internships": 6,
         "library_usage": 12,
         "project_involvement": 1,
         "risk_level": 0
        },
        {
         "activity_score": 6.59,
         "attendance": 87,
         "avg_current_grade": 8.47,
         "certificates": 7.41,
         "cgpa": 8.73,
         "extra_curricular": 8,
         "gpa_sem1": 8.78,
         "gpa_sem2": 8.75,
         "grade_trend": 1.46,
         "index": "75%",
         "internships": 8,
         "library_usage": 18,
         "project_involvement": 1,
         "risk_level": 1
        },
        {
         "activity_score": 10,
         "attendance": 99,
         "avg_current_grade": 10,
         "certificates": 10,
         "cgpa": 10,
         "extra_curricular": 10,
         "gpa_sem1": 10,
         "gpa_sem2": 10,
         "grade_trend": 4.94,
         "index": "max",
         "internships": 10,
         "library_usage": 24,
         "project_involvement": 1,
         "risk_level": 2
        }
       ],
       "schema": {
        "fields": [
         {
          "name": "index",
          "type": "string"
         },
         {
          "name": "attendance",
          "type": "number"
         },
         {
          "name": "cgpa",
          "type": "number"
         },
         {
          "name": "avg_current_grade",
          "type": "number"
         },
         {
          "name": "certificates",
          "type": "number"
         },
         {
          "name": "internships",
          "type": "number"
         },
         {
          "name": "extra_curricular",
          "type": "number"
         },
         {
          "name": "library_usage",
          "type": "number"
         },
         {
          "name": "project_involvement",
          "type": "number"
         },
         {
          "name": "activity_score",
          "type": "number"
         },
         {
          "name": "gpa_sem1",
          "type": "number"
         },
         {
          "name": "gpa_sem2",
          "type": "number"
         },
         {
          "name": "grade_trend",
          "type": "number"
         },
         {
          "name": "risk_level",
          "type": "number"
         }
        ],
        "pandas_version": "1.4.0",
        "primaryKey": [
         "index"
        ]
       }
      },
      "text/html": [
       "<div>\n",
       "<style scoped>\n",
       "    .dataframe tbody tr th:only-of-type {\n",
       "        vertical-align: middle;\n",
       "    }\n",
       "\n",
       "    .dataframe tbody tr th {\n",
       "        vertical-align: top;\n",
       "    }\n",
       "\n",
       "    .dataframe thead th {\n",
       "        text-align: right;\n",
       "    }\n",
       "</style>\n",
       "<table border=\"1\" class=\"dataframe\">\n",
       "  <thead>\n",
       "    <tr style=\"text-align: right;\">\n",
       "      <th></th>\n",
       "      <th>attendance</th>\n",
       "      <th>cgpa</th>\n",
       "      <th>avg_current_grade</th>\n",
       "      <th>certificates</th>\n",
       "      <th>internships</th>\n",
       "      <th>extra_curricular</th>\n",
       "      <th>library_usage</th>\n",
       "      <th>project_involvement</th>\n",
       "      <th>activity_score</th>\n",
       "      <th>gpa_sem1</th>\n",
       "      <th>gpa_sem2</th>\n",
       "      <th>grade_trend</th>\n",
       "      <th>risk_level</th>\n",
       "    </tr>\n",
       "  </thead>\n",
       "  <tbody>\n",
       "    <tr>\n",
       "      <th>count</th>\n",
       "      <td>5786.000000</td>\n",
       "      <td>5786.000000</td>\n",
       "      <td>5786.000000</td>\n",
       "      <td>5786.000000</td>\n",
       "      <td>5786.000000</td>\n",
       "      <td>5786.000000</td>\n",
       "      <td>5786.000000</td>\n",
       "      <td>5786.000000</td>\n",
       "      <td>5786.000000</td>\n",
       "      <td>5786.000000</td>\n",
       "      <td>5786.000000</td>\n",
       "      <td>5786.000000</td>\n",
       "      <td>5786.000000</td>\n",
       "    </tr>\n",
       "    <tr>\n",
       "      <th>mean</th>\n",
       "      <td>74.697891</td>\n",
       "      <td>7.482510</td>\n",
       "      <td>7.009679</td>\n",
       "      <td>4.955351</td>\n",
       "      <td>5.017283</td>\n",
       "      <td>5.032665</td>\n",
       "      <td>12.064639</td>\n",
       "      <td>0.508296</td>\n",
       "      <td>4.986229</td>\n",
       "      <td>7.522615</td>\n",
       "      <td>7.498894</td>\n",
       "      <td>-0.023721</td>\n",
       "      <td>0.506049</td>\n",
       "    </tr>\n",
       "    <tr>\n",
       "      <th>std</th>\n",
       "      <td>14.350158</td>\n",
       "      <td>1.445874</td>\n",
       "      <td>1.723953</td>\n",
       "      <td>2.882993</td>\n",
       "      <td>3.405224</td>\n",
       "      <td>3.156008</td>\n",
       "      <td>7.243223</td>\n",
       "      <td>0.499974</td>\n",
       "      <td>2.223351</td>\n",
       "      <td>1.441467</td>\n",
       "      <td>1.437373</td>\n",
       "      <td>2.059065</td>\n",
       "      <td>0.626177</td>\n",
       "    </tr>\n",
       "    <tr>\n",
       "      <th>min</th>\n",
       "      <td>50.000000</td>\n",
       "      <td>5.000000</td>\n",
       "      <td>4.000000</td>\n",
       "      <td>0.000000</td>\n",
       "      <td>0.000000</td>\n",
       "      <td>0.000000</td>\n",
       "      <td>0.000000</td>\n",
       "      <td>0.000000</td>\n",
       "      <td>0.000000</td>\n",
       "      <td>5.000000</td>\n",
       "      <td>5.000000</td>\n",
       "      <td>-4.920000</td>\n",
       "      <td>0.000000</td>\n",
       "    </tr>\n",
       "    <tr>\n",
       "      <th>25%</th>\n",
       "      <td>62.000000</td>\n",
       "      <td>6.250000</td>\n",
       "      <td>5.540000</td>\n",
       "      <td>2.450000</td>\n",
       "      <td>2.000000</td>\n",
       "      <td>2.000000</td>\n",
       "      <td>6.000000</td>\n",
       "      <td>0.000000</td>\n",
       "      <td>3.350000</td>\n",
       "      <td>6.290000</td>\n",
       "      <td>6.280000</td>\n",
       "      <td>-1.510000</td>\n",
       "      <td>0.000000</td>\n",
       "    </tr>\n",
       "    <tr>\n",
       "      <th>50%</th>\n",
       "      <td>75.000000</td>\n",
       "      <td>7.500000</td>\n",
       "      <td>7.010000</td>\n",
       "      <td>4.940000</td>\n",
       "      <td>6.000000</td>\n",
       "      <td>5.000000</td>\n",
       "      <td>12.000000</td>\n",
       "      <td>1.000000</td>\n",
       "      <td>4.960000</td>\n",
       "      <td>7.550000</td>\n",
       "      <td>7.470000</td>\n",
       "      <td>-0.020000</td>\n",
       "      <td>0.000000</td>\n",
       "    </tr>\n",
       "    <tr>\n",
       "      <th>75%</th>\n",
       "      <td>87.000000</td>\n",
       "      <td>8.730000</td>\n",
       "      <td>8.470000</td>\n",
       "      <td>7.410000</td>\n",
       "      <td>8.000000</td>\n",
       "      <td>8.000000</td>\n",
       "      <td>18.000000</td>\n",
       "      <td>1.000000</td>\n",
       "      <td>6.590000</td>\n",
       "      <td>8.780000</td>\n",
       "      <td>8.750000</td>\n",
       "      <td>1.460000</td>\n",
       "      <td>1.000000</td>\n",
       "    </tr>\n",
       "    <tr>\n",
       "      <th>max</th>\n",
       "      <td>99.000000</td>\n",
       "      <td>10.000000</td>\n",
       "      <td>10.000000</td>\n",
       "      <td>10.000000</td>\n",
       "      <td>10.000000</td>\n",
       "      <td>10.000000</td>\n",
       "      <td>24.000000</td>\n",
       "      <td>1.000000</td>\n",
       "      <td>10.000000</td>\n",
       "      <td>10.000000</td>\n",
       "      <td>10.000000</td>\n",
       "      <td>4.940000</td>\n",
       "      <td>2.000000</td>\n",
       "    </tr>\n",
       "  </tbody>\n",
       "</table>\n",
       "</div>"
      ],
      "text/plain": [
       "        attendance         cgpa  avg_current_grade  certificates  internships  \\\n",
       "count  5786.000000  5786.000000        5786.000000   5786.000000  5786.000000   \n",
       "mean     74.697891     7.482510           7.009679      4.955351     5.017283   \n",
       "std      14.350158     1.445874           1.723953      2.882993     3.405224   \n",
       "min      50.000000     5.000000           4.000000      0.000000     0.000000   \n",
       "25%      62.000000     6.250000           5.540000      2.450000     2.000000   \n",
       "50%      75.000000     7.500000           7.010000      4.940000     6.000000   \n",
       "75%      87.000000     8.730000           8.470000      7.410000     8.000000   \n",
       "max      99.000000    10.000000          10.000000     10.000000    10.000000   \n",
       "\n",
       "       extra_curricular  library_usage  project_involvement  activity_score  \\\n",
       "count       5786.000000    5786.000000          5786.000000     5786.000000   \n",
       "mean           5.032665      12.064639             0.508296        4.986229   \n",
       "std            3.156008       7.243223             0.499974        2.223351   \n",
       "min            0.000000       0.000000             0.000000        0.000000   \n",
       "25%            2.000000       6.000000             0.000000        3.350000   \n",
       "50%            5.000000      12.000000             1.000000        4.960000   \n",
       "75%            8.000000      18.000000             1.000000        6.590000   \n",
       "max           10.000000      24.000000             1.000000       10.000000   \n",
       "\n",
       "          gpa_sem1     gpa_sem2  grade_trend   risk_level  \n",
       "count  5786.000000  5786.000000  5786.000000  5786.000000  \n",
       "mean      7.522615     7.498894    -0.023721     0.506049  \n",
       "std       1.441467     1.437373     2.059065     0.626177  \n",
       "min       5.000000     5.000000    -4.920000     0.000000  \n",
       "25%       6.290000     6.280000    -1.510000     0.000000  \n",
       "50%       7.550000     7.470000    -0.020000     0.000000  \n",
       "75%       8.780000     8.750000     1.460000     1.000000  \n",
       "max      10.000000    10.000000     4.940000     2.000000  "
      ]
     },
     "execution_count": 2,
     "metadata": {},
     "output_type": "execute_result"
    }
   ],
   "source": [
    "data = pd.read_csv('Dataset/dataset.csv')\n",
    "\n",
    "print(\"Data Head:\")\n",
    "data.head()\n",
    "\n",
    "print(\"Data Shape:\")\n",
    "data.shape\n",
    "\n",
    "print(\"Data Description:\")\n",
    "data.describe()"
   ]
  },
  {
   "cell_type": "code",
   "execution_count": 3,
   "id": "877b550b-8e24-4f75-8170-0b71b8fd74b3",
   "metadata": {},
   "outputs": [
    {
     "data": {
      "application/vnd.dataresource+json": {
       "data": [
        {
         "index": "attendance",
         "values": 0
        },
        {
         "index": "cgpa",
         "values": 0
        },
        {
         "index": "avg_current_grade",
         "values": 0
        },
        {
         "index": "certificates",
         "values": 0
        },
        {
         "index": "internships",
         "values": 0
        },
        {
         "index": "department",
         "values": 0
        },
        {
         "index": "year",
         "values": 0
        },
        {
         "index": "gender",
         "values": 0
        },
        {
         "index": "residence",
         "values": 0
        },
        {
         "index": "school_type",
         "values": 0
        },
        {
         "index": "extra_curricular",
         "values": 0
        },
        {
         "index": "library_usage",
         "values": 0
        },
        {
         "index": "project_involvement",
         "values": 0
        },
        {
         "index": "activity_score",
         "values": 0
        },
        {
         "index": "gpa_sem1",
         "values": 0
        },
        {
         "index": "gpa_sem2",
         "values": 0
        },
        {
         "index": "grade_trend",
         "values": 0
        },
        {
         "index": "risk_level",
         "values": 0
        }
       ],
       "schema": {
        "fields": [
         {
          "name": "index",
          "type": "string"
         },
         {
          "name": "values",
          "type": "integer"
         }
        ],
        "pandas_version": "1.4.0",
        "primaryKey": [
         "index"
        ]
       }
      },
      "text/plain": [
       "attendance             0\n",
       "cgpa                   0\n",
       "avg_current_grade      0\n",
       "certificates           0\n",
       "internships            0\n",
       "department             0\n",
       "year                   0\n",
       "gender                 0\n",
       "residence              0\n",
       "school_type            0\n",
       "extra_curricular       0\n",
       "library_usage          0\n",
       "project_involvement    0\n",
       "activity_score         0\n",
       "gpa_sem1               0\n",
       "gpa_sem2               0\n",
       "grade_trend            0\n",
       "risk_level             0\n",
       "dtype: int64"
      ]
     },
     "execution_count": 3,
     "metadata": {},
     "output_type": "execute_result"
    }
   ],
   "source": [
    "data.isnull().sum()"
   ]
  },
  {
   "cell_type": "code",
   "execution_count": 4,
   "id": "8b149af7-de13-483c-9cb0-a0d6c8464684",
   "metadata": {},
   "outputs": [
    {
     "data": {
      "application/vnd.dataresource+json": {
       "data": [
        {
         "activity_score": 3.68,
         "attendance": 88,
         "avg_current_grade": 5.71,
         "certificates": 3.36,
         "cgpa": 8.24,
         "department": "ME",
         "extra_curricular": 3,
         "gender": "F",
         "gpa_sem1": 5.69,
         "gpa_sem2": 7.28,
         "grade_trend": 1.59,
         "index": 0,
         "internships": 4,
         "library_usage": 9,
         "project_involvement": 0,
         "residence": "Rural",
         "risk_level": 0,
         "school_type": "Private",
         "year": "3rd"
        },
        {
         "activity_score": 5.72,
         "attendance": 78,
         "avg_current_grade": 6.18,
         "certificates": 5.43,
         "cgpa": 6.37,
         "department": "EE",
         "extra_curricular": 1,
         "gender": "F",
         "gpa_sem1": 7.43,
         "gpa_sem2": 6.86,
         "grade_trend": -0.57,
         "index": 1,
         "internships": 6,
         "library_usage": 23,
         "project_involvement": 1,
         "residence": "Rural",
         "risk_level": 0,
         "school_type": "Private",
         "year": "2nd"
        },
        {
         "activity_score": 2.96,
         "attendance": 64,
         "avg_current_grade": 6.79,
         "certificates": 1.92,
         "cgpa": 5.89,
         "department": "ME",
         "extra_curricular": 5,
         "gender": "M",
         "gpa_sem1": 9.23,
         "gpa_sem2": 5.57,
         "grade_trend": -3.66,
         "index": 2,
         "internships": 4,
         "library_usage": 7,
         "project_involvement": 1,
         "residence": "Urban",
         "risk_level": 1,
         "school_type": "Government",
         "year": "1st"
        },
        {
         "activity_score": 5.68,
         "attendance": 92,
         "avg_current_grade": 9.87,
         "certificates": 5.37,
         "cgpa": 6.47,
         "department": "IT",
         "extra_curricular": 5,
         "gender": "F",
         "gpa_sem1": 5.5,
         "gpa_sem2": 6.15,
         "grade_trend": 0.65,
         "index": 3,
         "internships": 6,
         "library_usage": 5,
         "project_involvement": 1,
         "residence": "Rural",
         "risk_level": 0,
         "school_type": "Private",
         "year": "3rd"
        },
        {
         "activity_score": 2.4,
         "attendance": 57,
         "avg_current_grade": 5.03,
         "certificates": 2.79,
         "cgpa": 5.57,
         "department": "IT",
         "extra_curricular": 10,
         "gender": "F",
         "gpa_sem1": 8.39,
         "gpa_sem2": 6.02,
         "grade_trend": -2.37,
         "index": 4,
         "internships": 2,
         "library_usage": 19,
         "project_involvement": 1,
         "residence": "Urban",
         "risk_level": 2,
         "school_type": "Government",
         "year": "1st"
        }
       ],
       "schema": {
        "fields": [
         {
          "name": "index",
          "type": "integer"
         },
         {
          "name": "attendance",
          "type": "integer"
         },
         {
          "name": "cgpa",
          "type": "number"
         },
         {
          "name": "avg_current_grade",
          "type": "number"
         },
         {
          "name": "certificates",
          "type": "number"
         },
         {
          "name": "internships",
          "type": "integer"
         },
         {
          "name": "department",
          "type": "string"
         },
         {
          "name": "year",
          "type": "string"
         },
         {
          "name": "gender",
          "type": "string"
         },
         {
          "name": "residence",
          "type": "string"
         },
         {
          "name": "school_type",
          "type": "string"
         },
         {
          "name": "extra_curricular",
          "type": "integer"
         },
         {
          "name": "library_usage",
          "type": "integer"
         },
         {
          "name": "project_involvement",
          "type": "integer"
         },
         {
          "name": "activity_score",
          "type": "number"
         },
         {
          "name": "gpa_sem1",
          "type": "number"
         },
         {
          "name": "gpa_sem2",
          "type": "number"
         },
         {
          "name": "grade_trend",
          "type": "number"
         },
         {
          "name": "risk_level",
          "type": "integer"
         }
        ],
        "pandas_version": "1.4.0",
        "primaryKey": [
         "index"
        ]
       }
      },
      "text/html": [
       "<div>\n",
       "<style scoped>\n",
       "    .dataframe tbody tr th:only-of-type {\n",
       "        vertical-align: middle;\n",
       "    }\n",
       "\n",
       "    .dataframe tbody tr th {\n",
       "        vertical-align: top;\n",
       "    }\n",
       "\n",
       "    .dataframe thead th {\n",
       "        text-align: right;\n",
       "    }\n",
       "</style>\n",
       "<table border=\"1\" class=\"dataframe\">\n",
       "  <thead>\n",
       "    <tr style=\"text-align: right;\">\n",
       "      <th></th>\n",
       "      <th>attendance</th>\n",
       "      <th>cgpa</th>\n",
       "      <th>avg_current_grade</th>\n",
       "      <th>certificates</th>\n",
       "      <th>internships</th>\n",
       "      <th>department</th>\n",
       "      <th>year</th>\n",
       "      <th>gender</th>\n",
       "      <th>residence</th>\n",
       "      <th>school_type</th>\n",
       "      <th>extra_curricular</th>\n",
       "      <th>library_usage</th>\n",
       "      <th>project_involvement</th>\n",
       "      <th>activity_score</th>\n",
       "      <th>gpa_sem1</th>\n",
       "      <th>gpa_sem2</th>\n",
       "      <th>grade_trend</th>\n",
       "      <th>risk_level</th>\n",
       "    </tr>\n",
       "  </thead>\n",
       "  <tbody>\n",
       "    <tr>\n",
       "      <th>0</th>\n",
       "      <td>88</td>\n",
       "      <td>8.24</td>\n",
       "      <td>5.71</td>\n",
       "      <td>3.36</td>\n",
       "      <td>4</td>\n",
       "      <td>ME</td>\n",
       "      <td>3rd</td>\n",
       "      <td>F</td>\n",
       "      <td>Rural</td>\n",
       "      <td>Private</td>\n",
       "      <td>3</td>\n",
       "      <td>9</td>\n",
       "      <td>0</td>\n",
       "      <td>3.68</td>\n",
       "      <td>5.69</td>\n",
       "      <td>7.28</td>\n",
       "      <td>1.59</td>\n",
       "      <td>0</td>\n",
       "    </tr>\n",
       "    <tr>\n",
       "      <th>1</th>\n",
       "      <td>78</td>\n",
       "      <td>6.37</td>\n",
       "      <td>6.18</td>\n",
       "      <td>5.43</td>\n",
       "      <td>6</td>\n",
       "      <td>EE</td>\n",
       "      <td>2nd</td>\n",
       "      <td>F</td>\n",
       "      <td>Rural</td>\n",
       "      <td>Private</td>\n",
       "      <td>1</td>\n",
       "      <td>23</td>\n",
       "      <td>1</td>\n",
       "      <td>5.72</td>\n",
       "      <td>7.43</td>\n",
       "      <td>6.86</td>\n",
       "      <td>-0.57</td>\n",
       "      <td>0</td>\n",
       "    </tr>\n",
       "    <tr>\n",
       "      <th>2</th>\n",
       "      <td>64</td>\n",
       "      <td>5.89</td>\n",
       "      <td>6.79</td>\n",
       "      <td>1.92</td>\n",
       "      <td>4</td>\n",
       "      <td>ME</td>\n",
       "      <td>1st</td>\n",
       "      <td>M</td>\n",
       "      <td>Urban</td>\n",
       "      <td>Government</td>\n",
       "      <td>5</td>\n",
       "      <td>7</td>\n",
       "      <td>1</td>\n",
       "      <td>2.96</td>\n",
       "      <td>9.23</td>\n",
       "      <td>5.57</td>\n",
       "      <td>-3.66</td>\n",
       "      <td>1</td>\n",
       "    </tr>\n",
       "    <tr>\n",
       "      <th>3</th>\n",
       "      <td>92</td>\n",
       "      <td>6.47</td>\n",
       "      <td>9.87</td>\n",
       "      <td>5.37</td>\n",
       "      <td>6</td>\n",
       "      <td>IT</td>\n",
       "      <td>3rd</td>\n",
       "      <td>F</td>\n",
       "      <td>Rural</td>\n",
       "      <td>Private</td>\n",
       "      <td>5</td>\n",
       "      <td>5</td>\n",
       "      <td>1</td>\n",
       "      <td>5.68</td>\n",
       "      <td>5.50</td>\n",
       "      <td>6.15</td>\n",
       "      <td>0.65</td>\n",
       "      <td>0</td>\n",
       "    </tr>\n",
       "    <tr>\n",
       "      <th>4</th>\n",
       "      <td>57</td>\n",
       "      <td>5.57</td>\n",
       "      <td>5.03</td>\n",
       "      <td>2.79</td>\n",
       "      <td>2</td>\n",
       "      <td>IT</td>\n",
       "      <td>1st</td>\n",
       "      <td>F</td>\n",
       "      <td>Urban</td>\n",
       "      <td>Government</td>\n",
       "      <td>10</td>\n",
       "      <td>19</td>\n",
       "      <td>1</td>\n",
       "      <td>2.40</td>\n",
       "      <td>8.39</td>\n",
       "      <td>6.02</td>\n",
       "      <td>-2.37</td>\n",
       "      <td>2</td>\n",
       "    </tr>\n",
       "  </tbody>\n",
       "</table>\n",
       "</div>"
      ],
      "text/plain": [
       "   attendance  cgpa  avg_current_grade  certificates  internships department  \\\n",
       "0          88  8.24               5.71          3.36            4         ME   \n",
       "1          78  6.37               6.18          5.43            6         EE   \n",
       "2          64  5.89               6.79          1.92            4         ME   \n",
       "3          92  6.47               9.87          5.37            6         IT   \n",
       "4          57  5.57               5.03          2.79            2         IT   \n",
       "\n",
       "  year gender residence school_type  extra_curricular  library_usage  \\\n",
       "0  3rd      F     Rural     Private                 3              9   \n",
       "1  2nd      F     Rural     Private                 1             23   \n",
       "2  1st      M     Urban  Government                 5              7   \n",
       "3  3rd      F     Rural     Private                 5              5   \n",
       "4  1st      F     Urban  Government                10             19   \n",
       "\n",
       "   project_involvement  activity_score  gpa_sem1  gpa_sem2  grade_trend  \\\n",
       "0                    0            3.68      5.69      7.28         1.59   \n",
       "1                    1            5.72      7.43      6.86        -0.57   \n",
       "2                    1            2.96      9.23      5.57        -3.66   \n",
       "3                    1            5.68      5.50      6.15         0.65   \n",
       "4                    1            2.40      8.39      6.02        -2.37   \n",
       "\n",
       "   risk_level  \n",
       "0           0  \n",
       "1           0  \n",
       "2           1  \n",
       "3           0  \n",
       "4           2  "
      ]
     },
     "execution_count": 4,
     "metadata": {},
     "output_type": "execute_result"
    }
   ],
   "source": [
    "data.head()"
   ]
  },
  {
   "cell_type": "code",
   "execution_count": 5,
   "id": "0ff07536-486d-4909-ab54-7ca7a40f4d43",
   "metadata": {},
   "outputs": [],
   "source": [
    "features = data.drop(columns=['department', 'year', 'gender', 'residence', 'school_type', 'risk_level', 'grade_trend', 'avg_current_grade' ])"
   ]
  },
  {
   "cell_type": "code",
   "execution_count": 6,
   "id": "99d23c49-3384-4d7e-bf75-8b435eb0d711",
   "metadata": {},
   "outputs": [
    {
     "data": {
      "text/plain": [
       "(5786, 10)"
      ]
     },
     "execution_count": 6,
     "metadata": {},
     "output_type": "execute_result"
    }
   ],
   "source": [
    "features.shape"
   ]
  },
  {
   "cell_type": "code",
   "execution_count": 7,
   "id": "ad4e13ca-958b-49f5-a7e4-1c1680233e0f",
   "metadata": {},
   "outputs": [
    {
     "data": {
      "application/vnd.dataresource+json": {
       "data": [
        {
         "index": "attendance",
         "values": 0
        },
        {
         "index": "cgpa",
         "values": 0
        },
        {
         "index": "certificates",
         "values": 0
        },
        {
         "index": "internships",
         "values": 0
        },
        {
         "index": "extra_curricular",
         "values": 0
        },
        {
         "index": "library_usage",
         "values": 0
        },
        {
         "index": "project_involvement",
         "values": 0
        },
        {
         "index": "activity_score",
         "values": 0
        },
        {
         "index": "gpa_sem1",
         "values": 0
        },
        {
         "index": "gpa_sem2",
         "values": 0
        }
       ],
       "schema": {
        "fields": [
         {
          "name": "index",
          "type": "string"
         },
         {
          "name": "values",
          "type": "integer"
         }
        ],
        "pandas_version": "1.4.0",
        "primaryKey": [
         "index"
        ]
       }
      },
      "text/plain": [
       "attendance             0\n",
       "cgpa                   0\n",
       "certificates           0\n",
       "internships            0\n",
       "extra_curricular       0\n",
       "library_usage          0\n",
       "project_involvement    0\n",
       "activity_score         0\n",
       "gpa_sem1               0\n",
       "gpa_sem2               0\n",
       "dtype: int64"
      ]
     },
     "execution_count": 7,
     "metadata": {},
     "output_type": "execute_result"
    }
   ],
   "source": [
    "features.isnull().sum()"
   ]
  },
  {
   "cell_type": "code",
   "execution_count": 8,
   "id": "03daf3e2-03b9-4358-a5b2-9a1f43958c10",
   "metadata": {},
   "outputs": [
    {
     "data": {
      "application/vnd.dataresource+json": {
       "data": [
        {
         "activity_score": 3.68,
         "attendance": 88,
         "certificates": 3.36,
         "cgpa": 8.24,
         "extra_curricular": 3,
         "gpa_sem1": 5.69,
         "gpa_sem2": 7.28,
         "index": 0,
         "internships": 4,
         "library_usage": 9,
         "project_involvement": 0
        },
        {
         "activity_score": 5.72,
         "attendance": 78,
         "certificates": 5.43,
         "cgpa": 6.37,
         "extra_curricular": 1,
         "gpa_sem1": 7.43,
         "gpa_sem2": 6.86,
         "index": 1,
         "internships": 6,
         "library_usage": 23,
         "project_involvement": 1
        },
        {
         "activity_score": 2.96,
         "attendance": 64,
         "certificates": 1.92,
         "cgpa": 5.89,
         "extra_curricular": 5,
         "gpa_sem1": 9.23,
         "gpa_sem2": 5.57,
         "index": 2,
         "internships": 4,
         "library_usage": 7,
         "project_involvement": 1
        },
        {
         "activity_score": 5.68,
         "attendance": 92,
         "certificates": 5.37,
         "cgpa": 6.47,
         "extra_curricular": 5,
         "gpa_sem1": 5.5,
         "gpa_sem2": 6.15,
         "index": 3,
         "internships": 6,
         "library_usage": 5,
         "project_involvement": 1
        },
        {
         "activity_score": 2.4,
         "attendance": 57,
         "certificates": 2.79,
         "cgpa": 5.57,
         "extra_curricular": 10,
         "gpa_sem1": 8.39,
         "gpa_sem2": 6.02,
         "index": 4,
         "internships": 2,
         "library_usage": 19,
         "project_involvement": 1
        }
       ],
       "schema": {
        "fields": [
         {
          "name": "index",
          "type": "integer"
         },
         {
          "name": "attendance",
          "type": "integer"
         },
         {
          "name": "cgpa",
          "type": "number"
         },
         {
          "name": "certificates",
          "type": "number"
         },
         {
          "name": "internships",
          "type": "integer"
         },
         {
          "name": "extra_curricular",
          "type": "integer"
         },
         {
          "name": "library_usage",
          "type": "integer"
         },
         {
          "name": "project_involvement",
          "type": "integer"
         },
         {
          "name": "activity_score",
          "type": "number"
         },
         {
          "name": "gpa_sem1",
          "type": "number"
         },
         {
          "name": "gpa_sem2",
          "type": "number"
         }
        ],
        "pandas_version": "1.4.0",
        "primaryKey": [
         "index"
        ]
       }
      },
      "text/html": [
       "<div>\n",
       "<style scoped>\n",
       "    .dataframe tbody tr th:only-of-type {\n",
       "        vertical-align: middle;\n",
       "    }\n",
       "\n",
       "    .dataframe tbody tr th {\n",
       "        vertical-align: top;\n",
       "    }\n",
       "\n",
       "    .dataframe thead th {\n",
       "        text-align: right;\n",
       "    }\n",
       "</style>\n",
       "<table border=\"1\" class=\"dataframe\">\n",
       "  <thead>\n",
       "    <tr style=\"text-align: right;\">\n",
       "      <th></th>\n",
       "      <th>attendance</th>\n",
       "      <th>cgpa</th>\n",
       "      <th>certificates</th>\n",
       "      <th>internships</th>\n",
       "      <th>extra_curricular</th>\n",
       "      <th>library_usage</th>\n",
       "      <th>project_involvement</th>\n",
       "      <th>activity_score</th>\n",
       "      <th>gpa_sem1</th>\n",
       "      <th>gpa_sem2</th>\n",
       "    </tr>\n",
       "  </thead>\n",
       "  <tbody>\n",
       "    <tr>\n",
       "      <th>0</th>\n",
       "      <td>88</td>\n",
       "      <td>8.24</td>\n",
       "      <td>3.36</td>\n",
       "      <td>4</td>\n",
       "      <td>3</td>\n",
       "      <td>9</td>\n",
       "      <td>0</td>\n",
       "      <td>3.68</td>\n",
       "      <td>5.69</td>\n",
       "      <td>7.28</td>\n",
       "    </tr>\n",
       "    <tr>\n",
       "      <th>1</th>\n",
       "      <td>78</td>\n",
       "      <td>6.37</td>\n",
       "      <td>5.43</td>\n",
       "      <td>6</td>\n",
       "      <td>1</td>\n",
       "      <td>23</td>\n",
       "      <td>1</td>\n",
       "      <td>5.72</td>\n",
       "      <td>7.43</td>\n",
       "      <td>6.86</td>\n",
       "    </tr>\n",
       "    <tr>\n",
       "      <th>2</th>\n",
       "      <td>64</td>\n",
       "      <td>5.89</td>\n",
       "      <td>1.92</td>\n",
       "      <td>4</td>\n",
       "      <td>5</td>\n",
       "      <td>7</td>\n",
       "      <td>1</td>\n",
       "      <td>2.96</td>\n",
       "      <td>9.23</td>\n",
       "      <td>5.57</td>\n",
       "    </tr>\n",
       "    <tr>\n",
       "      <th>3</th>\n",
       "      <td>92</td>\n",
       "      <td>6.47</td>\n",
       "      <td>5.37</td>\n",
       "      <td>6</td>\n",
       "      <td>5</td>\n",
       "      <td>5</td>\n",
       "      <td>1</td>\n",
       "      <td>5.68</td>\n",
       "      <td>5.50</td>\n",
       "      <td>6.15</td>\n",
       "    </tr>\n",
       "    <tr>\n",
       "      <th>4</th>\n",
       "      <td>57</td>\n",
       "      <td>5.57</td>\n",
       "      <td>2.79</td>\n",
       "      <td>2</td>\n",
       "      <td>10</td>\n",
       "      <td>19</td>\n",
       "      <td>1</td>\n",
       "      <td>2.40</td>\n",
       "      <td>8.39</td>\n",
       "      <td>6.02</td>\n",
       "    </tr>\n",
       "  </tbody>\n",
       "</table>\n",
       "</div>"
      ],
      "text/plain": [
       "   attendance  cgpa  certificates  internships  extra_curricular  \\\n",
       "0          88  8.24          3.36            4                 3   \n",
       "1          78  6.37          5.43            6                 1   \n",
       "2          64  5.89          1.92            4                 5   \n",
       "3          92  6.47          5.37            6                 5   \n",
       "4          57  5.57          2.79            2                10   \n",
       "\n",
       "   library_usage  project_involvement  activity_score  gpa_sem1  gpa_sem2  \n",
       "0              9                    0            3.68      5.69      7.28  \n",
       "1             23                    1            5.72      7.43      6.86  \n",
       "2              7                    1            2.96      9.23      5.57  \n",
       "3              5                    1            5.68      5.50      6.15  \n",
       "4             19                    1            2.40      8.39      6.02  "
      ]
     },
     "execution_count": 8,
     "metadata": {},
     "output_type": "execute_result"
    }
   ],
   "source": [
    "features.head()"
   ]
  },
  {
   "cell_type": "code",
   "execution_count": 9,
   "id": "f99b695d-e703-4dcd-b221-7d67b35c2c9b",
   "metadata": {},
   "outputs": [],
   "source": [
    "features = ((features - features.min()) / (features.max() - features.min())) * 9 + 1"
   ]
  },
  {
   "cell_type": "code",
   "execution_count": 10,
   "id": "21967897-6878-44aa-9969-716b622d49bf",
   "metadata": {},
   "outputs": [
    {
     "data": {
      "application/vnd.dataresource+json": {
       "data": [
        {
         "activity_score": 5786,
         "attendance": 5786,
         "certificates": 5786,
         "cgpa": 5786,
         "extra_curricular": 5786,
         "gpa_sem1": 5786,
         "gpa_sem2": 5786,
         "index": "count",
         "internships": 5786,
         "library_usage": 5786,
         "project_involvement": 5786
        },
        {
         "activity_score": 5.4876059454,
         "attendance": 5.5363474114,
         "certificates": 5.4598157622,
         "cgpa": 5.4685171103,
         "extra_curricular": 5.5293985482,
         "gpa_sem1": 5.5407068787,
         "gpa_sem2": 5.4980089872,
         "index": "mean",
         "internships": 5.5155547874,
         "library_usage": 5.5242395437,
         "project_involvement": 5.5746629796
        },
        {
         "activity_score": 2.0010160181,
         "attendance": 2.6357433271,
         "certificates": 2.5946936559,
         "cgpa": 2.6025726424,
         "extra_curricular": 2.840406964,
         "gpa_sem1": 2.5946410201,
         "gpa_sem2": 2.5872718675,
         "index": "std",
         "internships": 3.0647018765,
         "library_usage": 2.7162084845,
         "project_involvement": 4.4997694283
        },
        {
         "activity_score": 1,
         "attendance": 1,
         "certificates": 1,
         "cgpa": 1,
         "extra_curricular": 1,
         "gpa_sem1": 1,
         "gpa_sem2": 1,
         "index": "min",
         "internships": 1,
         "library_usage": 1,
         "project_involvement": 1
        },
        {
         "activity_score": 4.015,
         "attendance": 3.2040816327,
         "certificates": 3.205,
         "cgpa": 3.25,
         "extra_curricular": 2.8,
         "gpa_sem1": 3.322,
         "gpa_sem2": 3.304,
         "index": "25%",
         "internships": 2.8,
         "library_usage": 3.25,
         "project_involvement": 1
        },
        {
         "activity_score": 5.464,
         "attendance": 5.5918367347,
         "certificates": 5.446,
         "cgpa": 5.5,
         "extra_curricular": 5.5,
         "gpa_sem1": 5.59,
         "gpa_sem2": 5.446,
         "index": "50%",
         "internships": 6.4,
         "library_usage": 5.5,
         "project_involvement": 10
        },
        {
         "activity_score": 6.931,
         "attendance": 7.7959183673,
         "certificates": 7.669,
         "cgpa": 7.714,
         "extra_curricular": 8.2,
         "gpa_sem1": 7.804,
         "gpa_sem2": 7.75,
         "index": "75%",
         "internships": 8.2,
         "library_usage": 7.75,
         "project_involvement": 10
        },
        {
         "activity_score": 10,
         "attendance": 10,
         "certificates": 10,
         "cgpa": 10,
         "extra_curricular": 10,
         "gpa_sem1": 10,
         "gpa_sem2": 10,
         "index": "max",
         "internships": 10,
         "library_usage": 10,
         "project_involvement": 10
        }
       ],
       "schema": {
        "fields": [
         {
          "name": "index",
          "type": "string"
         },
         {
          "name": "attendance",
          "type": "number"
         },
         {
          "name": "cgpa",
          "type": "number"
         },
         {
          "name": "certificates",
          "type": "number"
         },
         {
          "name": "internships",
          "type": "number"
         },
         {
          "name": "extra_curricular",
          "type": "number"
         },
         {
          "name": "library_usage",
          "type": "number"
         },
         {
          "name": "project_involvement",
          "type": "number"
         },
         {
          "name": "activity_score",
          "type": "number"
         },
         {
          "name": "gpa_sem1",
          "type": "number"
         },
         {
          "name": "gpa_sem2",
          "type": "number"
         }
        ],
        "pandas_version": "1.4.0",
        "primaryKey": [
         "index"
        ]
       }
      },
      "text/html": [
       "<div>\n",
       "<style scoped>\n",
       "    .dataframe tbody tr th:only-of-type {\n",
       "        vertical-align: middle;\n",
       "    }\n",
       "\n",
       "    .dataframe tbody tr th {\n",
       "        vertical-align: top;\n",
       "    }\n",
       "\n",
       "    .dataframe thead th {\n",
       "        text-align: right;\n",
       "    }\n",
       "</style>\n",
       "<table border=\"1\" class=\"dataframe\">\n",
       "  <thead>\n",
       "    <tr style=\"text-align: right;\">\n",
       "      <th></th>\n",
       "      <th>attendance</th>\n",
       "      <th>cgpa</th>\n",
       "      <th>certificates</th>\n",
       "      <th>internships</th>\n",
       "      <th>extra_curricular</th>\n",
       "      <th>library_usage</th>\n",
       "      <th>project_involvement</th>\n",
       "      <th>activity_score</th>\n",
       "      <th>gpa_sem1</th>\n",
       "      <th>gpa_sem2</th>\n",
       "    </tr>\n",
       "  </thead>\n",
       "  <tbody>\n",
       "    <tr>\n",
       "      <th>count</th>\n",
       "      <td>5786.000000</td>\n",
       "      <td>5786.000000</td>\n",
       "      <td>5786.000000</td>\n",
       "      <td>5786.000000</td>\n",
       "      <td>5786.000000</td>\n",
       "      <td>5786.000000</td>\n",
       "      <td>5786.000000</td>\n",
       "      <td>5786.000000</td>\n",
       "      <td>5786.000000</td>\n",
       "      <td>5786.000000</td>\n",
       "    </tr>\n",
       "    <tr>\n",
       "      <th>mean</th>\n",
       "      <td>5.536347</td>\n",
       "      <td>5.468517</td>\n",
       "      <td>5.459816</td>\n",
       "      <td>5.515555</td>\n",
       "      <td>5.529399</td>\n",
       "      <td>5.524240</td>\n",
       "      <td>5.574663</td>\n",
       "      <td>5.487606</td>\n",
       "      <td>5.540707</td>\n",
       "      <td>5.498009</td>\n",
       "    </tr>\n",
       "    <tr>\n",
       "      <th>std</th>\n",
       "      <td>2.635743</td>\n",
       "      <td>2.602573</td>\n",
       "      <td>2.594694</td>\n",
       "      <td>3.064702</td>\n",
       "      <td>2.840407</td>\n",
       "      <td>2.716208</td>\n",
       "      <td>4.499769</td>\n",
       "      <td>2.001016</td>\n",
       "      <td>2.594641</td>\n",
       "      <td>2.587272</td>\n",
       "    </tr>\n",
       "    <tr>\n",
       "      <th>min</th>\n",
       "      <td>1.000000</td>\n",
       "      <td>1.000000</td>\n",
       "      <td>1.000000</td>\n",
       "      <td>1.000000</td>\n",
       "      <td>1.000000</td>\n",
       "      <td>1.000000</td>\n",
       "      <td>1.000000</td>\n",
       "      <td>1.000000</td>\n",
       "      <td>1.000000</td>\n",
       "      <td>1.000000</td>\n",
       "    </tr>\n",
       "    <tr>\n",
       "      <th>25%</th>\n",
       "      <td>3.204082</td>\n",
       "      <td>3.250000</td>\n",
       "      <td>3.205000</td>\n",
       "      <td>2.800000</td>\n",
       "      <td>2.800000</td>\n",
       "      <td>3.250000</td>\n",
       "      <td>1.000000</td>\n",
       "      <td>4.015000</td>\n",
       "      <td>3.322000</td>\n",
       "      <td>3.304000</td>\n",
       "    </tr>\n",
       "    <tr>\n",
       "      <th>50%</th>\n",
       "      <td>5.591837</td>\n",
       "      <td>5.500000</td>\n",
       "      <td>5.446000</td>\n",
       "      <td>6.400000</td>\n",
       "      <td>5.500000</td>\n",
       "      <td>5.500000</td>\n",
       "      <td>10.000000</td>\n",
       "      <td>5.464000</td>\n",
       "      <td>5.590000</td>\n",
       "      <td>5.446000</td>\n",
       "    </tr>\n",
       "    <tr>\n",
       "      <th>75%</th>\n",
       "      <td>7.795918</td>\n",
       "      <td>7.714000</td>\n",
       "      <td>7.669000</td>\n",
       "      <td>8.200000</td>\n",
       "      <td>8.200000</td>\n",
       "      <td>7.750000</td>\n",
       "      <td>10.000000</td>\n",
       "      <td>6.931000</td>\n",
       "      <td>7.804000</td>\n",
       "      <td>7.750000</td>\n",
       "    </tr>\n",
       "    <tr>\n",
       "      <th>max</th>\n",
       "      <td>10.000000</td>\n",
       "      <td>10.000000</td>\n",
       "      <td>10.000000</td>\n",
       "      <td>10.000000</td>\n",
       "      <td>10.000000</td>\n",
       "      <td>10.000000</td>\n",
       "      <td>10.000000</td>\n",
       "      <td>10.000000</td>\n",
       "      <td>10.000000</td>\n",
       "      <td>10.000000</td>\n",
       "    </tr>\n",
       "  </tbody>\n",
       "</table>\n",
       "</div>"
      ],
      "text/plain": [
       "        attendance         cgpa  certificates  internships  extra_curricular  \\\n",
       "count  5786.000000  5786.000000   5786.000000  5786.000000       5786.000000   \n",
       "mean      5.536347     5.468517      5.459816     5.515555          5.529399   \n",
       "std       2.635743     2.602573      2.594694     3.064702          2.840407   \n",
       "min       1.000000     1.000000      1.000000     1.000000          1.000000   \n",
       "25%       3.204082     3.250000      3.205000     2.800000          2.800000   \n",
       "50%       5.591837     5.500000      5.446000     6.400000          5.500000   \n",
       "75%       7.795918     7.714000      7.669000     8.200000          8.200000   \n",
       "max      10.000000    10.000000     10.000000    10.000000         10.000000   \n",
       "\n",
       "       library_usage  project_involvement  activity_score     gpa_sem1  \\\n",
       "count    5786.000000          5786.000000     5786.000000  5786.000000   \n",
       "mean        5.524240             5.574663        5.487606     5.540707   \n",
       "std         2.716208             4.499769        2.001016     2.594641   \n",
       "min         1.000000             1.000000        1.000000     1.000000   \n",
       "25%         3.250000             1.000000        4.015000     3.322000   \n",
       "50%         5.500000            10.000000        5.464000     5.590000   \n",
       "75%         7.750000            10.000000        6.931000     7.804000   \n",
       "max        10.000000            10.000000       10.000000    10.000000   \n",
       "\n",
       "          gpa_sem2  \n",
       "count  5786.000000  \n",
       "mean      5.498009  \n",
       "std       2.587272  \n",
       "min       1.000000  \n",
       "25%       3.304000  \n",
       "50%       5.446000  \n",
       "75%       7.750000  \n",
       "max      10.000000  "
      ]
     },
     "execution_count": 10,
     "metadata": {},
     "output_type": "execute_result"
    }
   ],
   "source": [
    "features.describe()"
   ]
  },
  {
   "cell_type": "code",
   "execution_count": 11,
   "id": "4a560eaf-d676-4fdd-8348-958754e005c4",
   "metadata": {},
   "outputs": [
    {
     "data": {
      "application/vnd.dataresource+json": {
       "data": [
        {
         "count": 2941,
         "project_involvement": 10
        },
        {
         "count": 2845,
         "project_involvement": 1
        }
       ],
       "schema": {
        "fields": [
         {
          "name": "project_involvement",
          "type": "number"
         },
         {
          "name": "count",
          "type": "integer"
         }
        ],
        "pandas_version": "1.4.0",
        "primaryKey": [
         "project_involvement"
        ]
       }
      },
      "text/plain": [
       "project_involvement\n",
       "10.0    2941\n",
       "1.0     2845\n",
       "Name: count, dtype: int64"
      ]
     },
     "execution_count": 11,
     "metadata": {},
     "output_type": "execute_result"
    }
   ],
   "source": [
    "features['project_involvement'].value_counts()"
   ]
  },
  {
   "cell_type": "code",
   "execution_count": 12,
   "id": "6734b9db-9229-420d-aa39-8554ac00cbe2",
   "metadata": {},
   "outputs": [
    {
     "data": {
      "image/png": "[encoded data removed]",
      "text/plain": [
       "<Figure size 1200x800 with 2 Axes>"
      ]
     },
     "metadata": {},
     "output_type": "display_data"
    }
   ],
   "source": [
    "plt.figure(figsize=(12, 8))\n",
    "sns.heatmap(features.corr(), annot=True);\n",
    "plt.title(\"Feature Correlation Heatmap\")\n",
    "# plt.savefig(\"Feature Correlation Heatmap\", dpi = 300)\n",
    "plt.show();"
   ]
  },
  {
   "cell_type": "code",
   "execution_count": 13,
   "id": "476e9cd1-fcde-470c-a8cf-ffbfd4e05960",
   "metadata": {},
   "outputs": [
    {
     "data": {
      "image/png": "[encoded data removed]",
      "text/plain": [
       "<Figure size 1000x2000 with 10 Axes>"
      ]
     },
     "metadata": {},
     "output_type": "display_data"
    }
   ],
   "source": [
    "import matplotlib.pyplot as plt\n",
    "import seaborn as sns\n",
    "\n",
    "sns.set(style=\"whitegrid\")\n",
    "\n",
    "num_cols = len(features.columns)\n",
    "rows, cols = 5, 2  # fixed layout\n",
    "\n",
    "plt.figure(figsize=(cols * 5, rows * 4))  # adjust size accordingly\n",
    "\n",
    "# Create a color palette with enough distinct colors\n",
    "palette = sns.color_palette(\"tab10\", n_colors=num_cols)\n",
    "\n",
    "for i, col in enumerate(features.columns):\n",
    "    plt.subplot(rows, cols, i + 1)\n",
    "    color = palette[i % len(palette)]  # cycle colors if needed\n",
    "    \n",
    "    if features[col].nunique() < 15:\n",
    "        sns.countplot(x=col, data=features, color=color)\n",
    "    else:\n",
    "        sns.histplot(features[col], kde=True, bins=20, color=color)\n",
    "    \n",
    "    plt.title(col)\n",
    "    plt.tight_layout()\n",
    "\n",
    "plt.suptitle(\"Distributions of All Features\", fontsize=18, y=1.02)\n",
    "#plt.savefig(\"Distributions of All Features\", dpi=300)\n",
    "plt.show();"
   ]
  },
  {
   "cell_type": "code",
   "execution_count": 14,
   "id": "568253d9-18de-47f2-b20d-b90f7865874f",
   "metadata": {},
   "outputs": [],
   "source": [
    "features = features.drop(columns='activity_score')"
   ]
  },
  {
   "cell_type": "code",
   "execution_count": 15,
   "id": "658bd892-9370-4cca-91dc-9367c08fc30b",
   "metadata": {},
   "outputs": [
    {
     "data": {
      "application/vnd.dataresource+json": {
       "data": [
        {
         "attendance": 7.9795918367,
         "certificates": 4.024,
         "cgpa": 6.832,
         "extra_curricular": 3.7,
         "gpa_sem1": 2.242,
         "gpa_sem2": 5.104,
         "index": 0,
         "internships": 4.6,
         "library_usage": 4.375,
         "project_involvement": 1
        },
        {
         "attendance": 6.1428571429,
         "certificates": 5.887,
         "cgpa": 3.466,
         "extra_curricular": 1.9,
         "gpa_sem1": 5.374,
         "gpa_sem2": 4.348,
         "index": 1,
         "internships": 6.4,
         "library_usage": 9.625,
         "project_involvement": 10
        },
        {
         "attendance": 3.5714285714,
         "certificates": 2.728,
         "cgpa": 2.602,
         "extra_curricular": 5.5,
         "gpa_sem1": 8.614,
         "gpa_sem2": 2.026,
         "index": 2,
         "internships": 4.6,
         "library_usage": 3.625,
         "project_involvement": 10
        },
        {
         "attendance": 8.7142857143,
         "certificates": 5.833,
         "cgpa": 3.646,
         "extra_curricular": 5.5,
         "gpa_sem1": 1.9,
         "gpa_sem2": 3.07,
         "index": 3,
         "internships": 6.4,
         "library_usage": 2.875,
         "project_involvement": 10
        },
        {
         "attendance": 2.2857142857,
         "certificates": 3.511,
         "cgpa": 2.026,
         "extra_curricular": 10,
         "gpa_sem1": 7.102,
         "gpa_sem2": 2.836,
         "index": 4,
         "internships": 2.8,
         "library_usage": 8.125,
         "project_involvement": 10
        }
       ],
       "schema": {
        "fields": [
         {
          "name": "index",
          "type": "integer"
         },
         {
          "name": "attendance",
          "type": "number"
         },
         {
          "name": "cgpa",
          "type": "number"
         },
         {
          "name": "certificates",
          "type": "number"
         },
         {
          "name": "internships",
          "type": "number"
         },
         {
          "name": "extra_curricular",
          "type": "number"
         },
         {
          "name": "library_usage",
          "type": "number"
         },
         {
          "name": "project_involvement",
          "type": "number"
         },
         {
          "name": "gpa_sem1",
          "type": "number"
         },
         {
          "name": "gpa_sem2",
          "type": "number"
         }
        ],
        "pandas_version": "1.4.0",
        "primaryKey": [
         "index"
        ]
       }
      },
      "text/html": [
       "<div>\n",
       "<style scoped>\n",
       "    .dataframe tbody tr th:only-of-type {\n",
       "        vertical-align: middle;\n",
       "    }\n",
       "\n",
       "    .dataframe tbody tr th {\n",
       "        vertical-align: top;\n",
       "    }\n",
       "\n",
       "    .dataframe thead th {\n",
       "        text-align: right;\n",
       "    }\n",
       "</style>\n",
       "<table border=\"1\" class=\"dataframe\">\n",
       "  <thead>\n",
       "    <tr style=\"text-align: right;\">\n",
       "      <th></th>\n",
       "      <th>attendance</th>\n",
       "      <th>cgpa</th>\n",
       "      <th>certificates</th>\n",
       "      <th>internships</th>\n",
       "      <th>extra_curricular</th>\n",
       "      <th>library_usage</th>\n",
       "      <th>project_involvement</th>\n",
       "      <th>gpa_sem1</th>\n",
       "      <th>gpa_sem2</th>\n",
       "    </tr>\n",
       "  </thead>\n",
       "  <tbody>\n",
       "    <tr>\n",
       "      <th>0</th>\n",
       "      <td>7.979592</td>\n",
       "      <td>6.832</td>\n",
       "      <td>4.024</td>\n",
       "      <td>4.6</td>\n",
       "      <td>3.7</td>\n",
       "      <td>4.375</td>\n",
       "      <td>1.0</td>\n",
       "      <td>2.242</td>\n",
       "      <td>5.104</td>\n",
       "    </tr>\n",
       "    <tr>\n",
       "      <th>1</th>\n",
       "      <td>6.142857</td>\n",
       "      <td>3.466</td>\n",
       "      <td>5.887</td>\n",
       "      <td>6.4</td>\n",
       "      <td>1.9</td>\n",
       "      <td>9.625</td>\n",
       "      <td>10.0</td>\n",
       "      <td>5.374</td>\n",
       "      <td>4.348</td>\n",
       "    </tr>\n",
       "    <tr>\n",
       "      <th>2</th>\n",
       "      <td>3.571429</td>\n",
       "      <td>2.602</td>\n",
       "      <td>2.728</td>\n",
       "      <td>4.6</td>\n",
       "      <td>5.5</td>\n",
       "      <td>3.625</td>\n",
       "      <td>10.0</td>\n",
       "      <td>8.614</td>\n",
       "      <td>2.026</td>\n",
       "    </tr>\n",
       "    <tr>\n",
       "      <th>3</th>\n",
       "      <td>8.714286</td>\n",
       "      <td>3.646</td>\n",
       "      <td>5.833</td>\n",
       "      <td>6.4</td>\n",
       "      <td>5.5</td>\n",
       "      <td>2.875</td>\n",
       "      <td>10.0</td>\n",
       "      <td>1.900</td>\n",
       "      <td>3.070</td>\n",
       "    </tr>\n",
       "    <tr>\n",
       "      <th>4</th>\n",
       "      <td>2.285714</td>\n",
       "      <td>2.026</td>\n",
       "      <td>3.511</td>\n",
       "      <td>2.8</td>\n",
       "      <td>10.0</td>\n",
       "      <td>8.125</td>\n",
       "      <td>10.0</td>\n",
       "      <td>7.102</td>\n",
       "      <td>2.836</td>\n",
       "    </tr>\n",
       "  </tbody>\n",
       "</table>\n",
       "</div>"
      ],
      "text/plain": [
       "   attendance   cgpa  certificates  internships  extra_curricular  \\\n",
       "0    7.979592  6.832         4.024          4.6               3.7   \n",
       "1    6.142857  3.466         5.887          6.4               1.9   \n",
       "2    3.571429  2.602         2.728          4.6               5.5   \n",
       "3    8.714286  3.646         5.833          6.4               5.5   \n",
       "4    2.285714  2.026         3.511          2.8              10.0   \n",
       "\n",
       "   library_usage  project_involvement  gpa_sem1  gpa_sem2  \n",
       "0          4.375                  1.0     2.242     5.104  \n",
       "1          9.625                 10.0     5.374     4.348  \n",
       "2          3.625                 10.0     8.614     2.026  \n",
       "3          2.875                 10.0     1.900     3.070  \n",
       "4          8.125                 10.0     7.102     2.836  "
      ]
     },
     "execution_count": 15,
     "metadata": {},
     "output_type": "execute_result"
    }
   ],
   "source": [
    "features.head()"
   ]
  },
  {
   "cell_type": "code",
   "execution_count": 16,
   "id": "430f7fb3-4152-43c2-b94a-b0e0f8c7a7c7",
   "metadata": {},
   "outputs": [],
   "source": [
    "def calculate_activity_score(row):\n",
    "    weights = {\n",
    "        'attendance': 0.15,\n",
    "        'cgpa': 0.2,\n",
    "        'certificates': 0.1,\n",
    "        'internships': 0.15,\n",
    "        'extra_curricular': 0.05,\n",
    "        'library_usage': 0.1,\n",
    "        'project_involvement': 0.15,\n",
    "        'gpa_sem1': 0.05,\n",
    "        'gpa_sem2': 0.05\n",
    "    }\n",
    "    \n",
    "    score = (\n",
    "        row['attendance'] * weights['attendance'] +\n",
    "        row['cgpa'] * weights['cgpa'] +\n",
    "        row['certificates'] * weights['certificates'] +\n",
    "        row['internships'] * weights['internships'] +\n",
    "        row['extra_curricular'] * weights['extra_curricular'] +\n",
    "        row['library_usage'] * weights['library_usage'] +\n",
    "        row['project_involvement'] * weights['project_involvement'] +\n",
    "        row['gpa_sem1'] * weights['gpa_sem1'] +\n",
    "        row['gpa_sem2'] * weights['gpa_sem2']\n",
    "    )\n",
    "    return round(score, 2)"
   ]
  },
  {
   "cell_type": "code",
   "execution_count": 17,
   "id": "07b4559d-8175-4f01-bcfb-64fca730671c",
   "metadata": {},
   "outputs": [],
   "source": [
    "features['activity_score'] = features.apply(calculate_activity_score, axis=1)"
   ]
  },
  {
   "cell_type": "code",
   "execution_count": 18,
   "id": "4732423e-b734-465f-af8e-7e8d54a513d2",
   "metadata": {},
   "outputs": [
    {
     "data": {
      "application/vnd.dataresource+json": {
       "data": [
        {
         "index": "attendance",
         "values": 0
        },
        {
         "index": "cgpa",
         "values": 0
        },
        {
         "index": "certificates",
         "values": 0
        },
        {
         "index": "internships",
         "values": 0
        },
        {
         "index": "extra_curricular",
         "values": 0
        },
        {
         "index": "library_usage",
         "values": 0
        },
        {
         "index": "project_involvement",
         "values": 0
        },
        {
         "index": "gpa_sem1",
         "values": 0
        },
        {
         "index": "gpa_sem2",
         "values": 0
        },
        {
         "index": "activity_score",
         "values": 0
        }
       ],
       "schema": {
        "fields": [
         {
          "name": "index",
          "type": "string"
         },
         {
          "name": "values",
          "type": "integer"
         }
        ],
        "pandas_version": "1.4.0",
        "primaryKey": [
         "index"
        ]
       }
      },
      "text/plain": [
       "attendance             0\n",
       "cgpa                   0\n",
       "certificates           0\n",
       "internships            0\n",
       "extra_curricular       0\n",
       "library_usage          0\n",
       "project_involvement    0\n",
       "gpa_sem1               0\n",
       "gpa_sem2               0\n",
       "activity_score         0\n",
       "dtype: int64"
      ]
     },
     "execution_count": 18,
     "metadata": {},
     "output_type": "execute_result"
    }
   ],
   "source": [
    "features.isnull().sum()"
   ]
  },
  {
   "cell_type": "code",
   "execution_count": 19,
   "id": "8819dfe8-c1e2-4305-a5a8-c0133104feb6",
   "metadata": {},
   "outputs": [
    {
     "data": {
      "application/vnd.dataresource+json": {
       "data": [
        {
         "activity_score": 5786,
         "attendance": 5786,
         "certificates": 5786,
         "cgpa": 5786,
         "extra_curricular": 5786,
         "gpa_sem1": 5786,
         "gpa_sem2": 5786,
         "index": "count",
         "internships": 5786,
         "library_usage": 5786,
         "project_involvement": 5786
        },
        {
         "activity_score": 5.5145627376,
         "attendance": 5.5363474114,
         "certificates": 5.4598157622,
         "cgpa": 5.4685171103,
         "extra_curricular": 5.5293985482,
         "gpa_sem1": 5.5407068787,
         "gpa_sem2": 5.4980089872,
         "index": "mean",
         "internships": 5.5155547874,
         "library_usage": 5.5242395437,
         "project_involvement": 5.5746629796
        },
        {
         "activity_score": 1.1485694039,
         "attendance": 2.6357433271,
         "certificates": 2.5946936559,
         "cgpa": 2.6025726424,
         "extra_curricular": 2.840406964,
         "gpa_sem1": 2.5946410201,
         "gpa_sem2": 2.5872718675,
         "index": "std",
         "internships": 3.0647018765,
         "library_usage": 2.7162084845,
         "project_involvement": 4.4997694283
        },
        {
         "activity_score": 2.06,
         "attendance": 1,
         "certificates": 1,
         "cgpa": 1,
         "extra_curricular": 1,
         "gpa_sem1": 1,
         "gpa_sem2": 1,
         "index": "min",
         "internships": 1,
         "library_usage": 1,
         "project_involvement": 1
        },
        {
         "activity_score": 4.6925,
         "attendance": 3.2040816327,
         "certificates": 3.205,
         "cgpa": 3.25,
         "extra_curricular": 2.8,
         "gpa_sem1": 3.322,
         "gpa_sem2": 3.304,
         "index": "25%",
         "internships": 2.8,
         "library_usage": 3.25,
         "project_involvement": 1
        },
        {
         "activity_score": 5.5,
         "attendance": 5.5918367347,
         "certificates": 5.446,
         "cgpa": 5.5,
         "extra_curricular": 5.5,
         "gpa_sem1": 5.59,
         "gpa_sem2": 5.446,
         "index": "50%",
         "internships": 6.4,
         "library_usage": 5.5,
         "project_involvement": 10
        },
        {
         "activity_score": 6.32,
         "attendance": 7.7959183673,
         "certificates": 7.669,
         "cgpa": 7.714,
         "extra_curricular": 8.2,
         "gpa_sem1": 7.804,
         "gpa_sem2": 7.75,
         "index": "75%",
         "internships": 8.2,
         "library_usage": 7.75,
         "project_involvement": 10
        },
        {
         "activity_score": 8.78,
         "attendance": 10,
         "certificates": 10,
         "cgpa": 10,
         "extra_curricular": 10,
         "gpa_sem1": 10,
         "gpa_sem2": 10,
         "index": "max",
         "internships": 10,
         "library_usage": 10,
         "project_involvement": 10
        }
       ],
       "schema": {
        "fields": [
         {
          "name": "index",
          "type": "string"
         },
         {
          "name": "attendance",
          "type": "number"
         },
         {
          "name": "cgpa",
          "type": "number"
         },
         {
          "name": "certificates",
          "type": "number"
         },
         {
          "name": "internships",
          "type": "number"
         },
         {
          "name": "extra_curricular",
          "type": "number"
         },
         {
          "name": "library_usage",
          "type": "number"
         },
         {
          "name": "project_involvement",
          "type": "number"
         },
         {
          "name": "gpa_sem1",
          "type": "number"
         },
         {
          "name": "gpa_sem2",
          "type": "number"
         },
         {
          "name": "activity_score",
          "type": "number"
         }
        ],
        "pandas_version": "1.4.0",
        "primaryKey": [
         "index"
        ]
       }
      },
      "text/html": [
       "<div>\n",
       "<style scoped>\n",
       "    .dataframe tbody tr th:only-of-type {\n",
       "        vertical-align: middle;\n",
       "    }\n",
       "\n",
       "    .dataframe tbody tr th {\n",
       "        vertical-align: top;\n",
       "    }\n",
       "\n",
       "    .dataframe thead th {\n",
       "        text-align: right;\n",
       "    }\n",
       "</style>\n",
       "<table border=\"1\" class=\"dataframe\">\n",
       "  <thead>\n",
       "    <tr style=\"text-align: right;\">\n",
       "      <th></th>\n",
       "      <th>attendance</th>\n",
       "      <th>cgpa</th>\n",
       "      <th>certificates</th>\n",
       "      <th>internships</th>\n",
       "      <th>extra_curricular</th>\n",
       "      <th>library_usage</th>\n",
       "      <th>project_involvement</th>\n",
       "      <th>gpa_sem1</th>\n",
       "      <th>gpa_sem2</th>\n",
       "      <th>activity_score</th>\n",
       "    </tr>\n",
       "  </thead>\n",
       "  <tbody>\n",
       "    <tr>\n",
       "      <th>count</th>\n",
       "      <td>5786.000000</td>\n",
       "      <td>5786.000000</td>\n",
       "      <td>5786.000000</td>\n",
       "      <td>5786.000000</td>\n",
       "      <td>5786.000000</td>\n",
       "      <td>5786.000000</td>\n",
       "      <td>5786.000000</td>\n",
       "      <td>5786.000000</td>\n",
       "      <td>5786.000000</td>\n",
       "      <td>5786.000000</td>\n",
       "    </tr>\n",
       "    <tr>\n",
       "      <th>mean</th>\n",
       "      <td>5.536347</td>\n",
       "      <td>5.468517</td>\n",
       "      <td>5.459816</td>\n",
       "      <td>5.515555</td>\n",
       "      <td>5.529399</td>\n",
       "      <td>5.524240</td>\n",
       "      <td>5.574663</td>\n",
       "      <td>5.540707</td>\n",
       "      <td>5.498009</td>\n",
       "      <td>5.514563</td>\n",
       "    </tr>\n",
       "    <tr>\n",
       "      <th>std</th>\n",
       "      <td>2.635743</td>\n",
       "      <td>2.602573</td>\n",
       "      <td>2.594694</td>\n",
       "      <td>3.064702</td>\n",
       "      <td>2.840407</td>\n",
       "      <td>2.716208</td>\n",
       "      <td>4.499769</td>\n",
       "      <td>2.594641</td>\n",
       "      <td>2.587272</td>\n",
       "      <td>1.148569</td>\n",
       "    </tr>\n",
       "    <tr>\n",
       "      <th>min</th>\n",
       "      <td>1.000000</td>\n",
       "      <td>1.000000</td>\n",
       "      <td>1.000000</td>\n",
       "      <td>1.000000</td>\n",
       "      <td>1.000000</td>\n",
       "      <td>1.000000</td>\n",
       "      <td>1.000000</td>\n",
       "      <td>1.000000</td>\n",
       "      <td>1.000000</td>\n",
       "      <td>2.060000</td>\n",
       "    </tr>\n",
       "    <tr>\n",
       "      <th>25%</th>\n",
       "      <td>3.204082</td>\n",
       "      <td>3.250000</td>\n",
       "      <td>3.205000</td>\n",
       "      <td>2.800000</td>\n",
       "      <td>2.800000</td>\n",
       "      <td>3.250000</td>\n",
       "      <td>1.000000</td>\n",
       "      <td>3.322000</td>\n",
       "      <td>3.304000</td>\n",
       "      <td>4.692500</td>\n",
       "    </tr>\n",
       "    <tr>\n",
       "      <th>50%</th>\n",
       "      <td>5.591837</td>\n",
       "      <td>5.500000</td>\n",
       "      <td>5.446000</td>\n",
       "      <td>6.400000</td>\n",
       "      <td>5.500000</td>\n",
       "      <td>5.500000</td>\n",
       "      <td>10.000000</td>\n",
       "      <td>5.590000</td>\n",
       "      <td>5.446000</td>\n",
       "      <td>5.500000</td>\n",
       "    </tr>\n",
       "    <tr>\n",
       "      <th>75%</th>\n",
       "      <td>7.795918</td>\n",
       "      <td>7.714000</td>\n",
       "      <td>7.669000</td>\n",
       "      <td>8.200000</td>\n",
       "      <td>8.200000</td>\n",
       "      <td>7.750000</td>\n",
       "      <td>10.000000</td>\n",
       "      <td>7.804000</td>\n",
       "      <td>7.750000</td>\n",
       "      <td>6.320000</td>\n",
       "    </tr>\n",
       "    <tr>\n",
       "      <th>max</th>\n",
       "      <td>10.000000</td>\n",
       "      <td>10.000000</td>\n",
       "      <td>10.000000</td>\n",
       "      <td>10.000000</td>\n",
       "      <td>10.000000</td>\n",
       "      <td>10.000000</td>\n",
       "      <td>10.000000</td>\n",
       "      <td>10.000000</td>\n",
       "      <td>10.000000</td>\n",
       "      <td>8.780000</td>\n",
       "    </tr>\n",
       "  </tbody>\n",
       "</table>\n",
       "</div>"
      ],
      "text/plain": [
       "        attendance         cgpa  certificates  internships  extra_curricular  \\\n",
       "count  5786.000000  5786.000000   5786.000000  5786.000000       5786.000000   \n",
       "mean      5.536347     5.468517      5.459816     5.515555          5.529399   \n",
       "std       2.635743     2.602573      2.594694     3.064702          2.840407   \n",
       "min       1.000000     1.000000      1.000000     1.000000          1.000000   \n",
       "25%       3.204082     3.250000      3.205000     2.800000          2.800000   \n",
       "50%       5.591837     5.500000      5.446000     6.400000          5.500000   \n",
       "75%       7.795918     7.714000      7.669000     8.200000          8.200000   \n",
       "max      10.000000    10.000000     10.000000    10.000000         10.000000   \n",
       "\n",
       "       library_usage  project_involvement     gpa_sem1     gpa_sem2  \\\n",
       "count    5786.000000          5786.000000  5786.000000  5786.000000   \n",
       "mean        5.524240             5.574663     5.540707     5.498009   \n",
       "std         2.716208             4.499769     2.594641     2.587272   \n",
       "min         1.000000             1.000000     1.000000     1.000000   \n",
       "25%         3.250000             1.000000     3.322000     3.304000   \n",
       "50%         5.500000            10.000000     5.590000     5.446000   \n",
       "75%         7.750000            10.000000     7.804000     7.750000   \n",
       "max        10.000000            10.000000    10.000000    10.000000   \n",
       "\n",
       "       activity_score  \n",
       "count     5786.000000  \n",
       "mean         5.514563  \n",
       "std          1.148569  \n",
       "min          2.060000  \n",
       "25%          4.692500  \n",
       "50%          5.500000  \n",
       "75%          6.320000  \n",
       "max          8.780000  "
      ]
     },
     "execution_count": 19,
     "metadata": {},
     "output_type": "execute_result"
    }
   ],
   "source": [
    "features.describe()"
   ]
  },
  {
   "cell_type": "code",
   "execution_count": 23,
   "id": "22f9925e-10c2-44d2-a5d1-e3d491f773a5",
   "metadata": {},
   "outputs": [],
   "source": [
    "def classify_risk(score):\n",
    "    if score >= 7.5:\n",
    "        return 'Very Low Risk'\n",
    "    elif score >= 6:\n",
    "        return 'Low Risk'\n",
    "    elif score >= 4:\n",
    "        return 'Moderate Risk'\n",
    "    elif score >= 3:\n",
    "        return 'High Risk'\n",
    "    else:\n",
    "        return 'Very High Risk'\n",
    "\n",
    "features['risk'] = features['activity_score'].apply(classify_risk)"
   ]
  },
  {
   "cell_type": "code",
   "execution_count": 24,
   "id": "e609b359-3863-4dae-9fc7-6aa04998a940",
   "metadata": {},
   "outputs": [
    {
     "data": {
      "application/vnd.dataresource+json": {
       "data": [
        {
         "count": 3249,
         "risk": "Moderate Risk"
        },
        {
         "count": 1742,
         "risk": "Low Risk"
        },
        {
         "count": 489,
         "risk": "High Risk"
        },
        {
         "count": 243,
         "risk": "Very Low Risk"
        },
        {
         "count": 63,
         "risk": "Very High Risk"
        }
       ],
       "schema": {
        "fields": [
         {
          "name": "risk",
          "type": "string"
         },
         {
          "name": "count",
          "type": "integer"
         }
        ],
        "pandas_version": "1.4.0",
        "primaryKey": [
         "risk"
        ]
       }
      },
      "text/plain": [
       "risk\n",
       "Moderate Risk     3249\n",
       "Low Risk          1742\n",
       "High Risk          489\n",
       "Very Low Risk      243\n",
       "Very High Risk      63\n",
       "Name: count, dtype: int64"
      ]
     },
     "execution_count": 24,
     "metadata": {},
     "output_type": "execute_result"
    }
   ],
   "source": [
    "features['risk'].value_counts()"
   ]
  },
  {
   "cell_type": "code",
   "execution_count": 25,
   "id": "c9f0321c-db1a-4ea1-90fb-05ddee706754",
   "metadata": {},
   "outputs": [
    {
     "data": {
      "application/vnd.dataresource+json": {
       "data": [
        {
         "activity_score": 4.8,
         "attendance": 7.9795918367,
         "certificates": 4.024,
         "cgpa": 6.832,
         "extra_curricular": 3.7,
         "gpa_sem1": 2.242,
         "gpa_sem2": 5.104,
         "index": 0,
         "internships": 4.6,
         "library_usage": 4.375,
         "project_involvement": 1,
         "risk": "Moderate Risk"
        },
        {
         "activity_score": 6.21,
         "attendance": 6.1428571429,
         "certificates": 5.887,
         "cgpa": 3.466,
         "extra_curricular": 1.9,
         "gpa_sem1": 5.374,
         "gpa_sem2": 4.348,
         "index": 1,
         "internships": 6.4,
         "library_usage": 9.625,
         "project_involvement": 10,
         "risk": "Low Risk"
        },
        {
         "activity_score": 4.69,
         "attendance": 3.5714285714,
         "certificates": 2.728,
         "cgpa": 2.602,
         "extra_curricular": 5.5,
         "gpa_sem1": 8.614,
         "gpa_sem2": 2.026,
         "index": 2,
         "internships": 4.6,
         "library_usage": 3.625,
         "project_involvement": 10,
         "risk": "Moderate Risk"
        },
        {
         "activity_score": 5.89,
         "attendance": 8.7142857143,
         "certificates": 5.833,
         "cgpa": 3.646,
         "extra_curricular": 5.5,
         "gpa_sem1": 1.9,
         "gpa_sem2": 3.07,
         "index": 3,
         "internships": 6.4,
         "library_usage": 2.875,
         "project_involvement": 10,
         "risk": "Moderate Risk"
        },
        {
         "activity_score": 4.83,
         "attendance": 2.2857142857,
         "certificates": 3.511,
         "cgpa": 2.026,
         "extra_curricular": 10,
         "gpa_sem1": 7.102,
         "gpa_sem2": 2.836,
         "index": 4,
         "internships": 2.8,
         "library_usage": 8.125,
         "project_involvement": 10,
         "risk": "Moderate Risk"
        }
       ],
       "schema": {
        "fields": [
         {
          "name": "index",
          "type": "integer"
         },
         {
          "name": "attendance",
          "type": "number"
         },
         {
          "name": "cgpa",
          "type": "number"
         },
         {
          "name": "certificates",
          "type": "number"
         },
         {
          "name": "internships",
          "type": "number"
         },
         {
          "name": "extra_curricular",
          "type": "number"
         },
         {
          "name": "library_usage",
          "type": "number"
         },
         {
          "name": "project_involvement",
          "type": "number"
         },
         {
          "name": "gpa_sem1",
          "type": "number"
         },
         {
          "name": "gpa_sem2",
          "type": "number"
         },
         {
          "name": "activity_score",
          "type": "number"
         },
         {
          "name": "risk",
          "type": "string"
         }
        ],
        "pandas_version": "1.4.0",
        "primaryKey": [
         "index"
        ]
       }
      },
      "text/html": [
       "<div>\n",
       "<style scoped>\n",
       "    .dataframe tbody tr th:only-of-type {\n",
       "        vertical-align: middle;\n",
       "    }\n",
       "\n",
       "    .dataframe tbody tr th {\n",
       "        vertical-align: top;\n",
       "    }\n",
       "\n",
       "    .dataframe thead th {\n",
       "        text-align: right;\n",
       "    }\n",
       "</style>\n",
       "<table border=\"1\" class=\"dataframe\">\n",
       "  <thead>\n",
       "    <tr style=\"text-align: right;\">\n",
       "      <th></th>\n",
       "      <th>attendance</th>\n",
       "      <th>cgpa</th>\n",
       "      <th>certificates</th>\n",
       "      <th>internships</th>\n",
       "      <th>extra_curricular</th>\n",
       "      <th>library_usage</th>\n",
       "      <th>project_involvement</th>\n",
       "      <th>gpa_sem1</th>\n",
       "      <th>gpa_sem2</th>\n",
       "      <th>activity_score</th>\n",
       "      <th>risk</th>\n",
       "    </tr>\n",
       "  </thead>\n",
       "  <tbody>\n",
       "    <tr>\n",
       "      <th>0</th>\n",
       "      <td>7.979592</td>\n",
       "      <td>6.832</td>\n",
       "      <td>4.024</td>\n",
       "      <td>4.6</td>\n",
       "      <td>3.7</td>\n",
       "      <td>4.375</td>\n",
       "      <td>1.0</td>\n",
       "      <td>2.242</td>\n",
       "      <td>5.104</td>\n",
       "      <td>4.80</td>\n",
       "      <td>Moderate Risk</td>\n",
       "    </tr>\n",
       "    <tr>\n",
       "      <th>1</th>\n",
       "      <td>6.142857</td>\n",
       "      <td>3.466</td>\n",
       "      <td>5.887</td>\n",
       "      <td>6.4</td>\n",
       "      <td>1.9</td>\n",
       "      <td>9.625</td>\n",
       "      <td>10.0</td>\n",
       "      <td>5.374</td>\n",
       "      <td>4.348</td>\n",
       "      <td>6.21</td>\n",
       "      <td>Low Risk</td>\n",
       "    </tr>\n",
       "    <tr>\n",
       "      <th>2</th>\n",
       "      <td>3.571429</td>\n",
       "      <td>2.602</td>\n",
       "      <td>2.728</td>\n",
       "      <td>4.6</td>\n",
       "      <td>5.5</td>\n",
       "      <td>3.625</td>\n",
       "      <td>10.0</td>\n",
       "      <td>8.614</td>\n",
       "      <td>2.026</td>\n",
       "      <td>4.69</td>\n",
       "      <td>Moderate Risk</td>\n",
       "    </tr>\n",
       "    <tr>\n",
       "      <th>3</th>\n",
       "      <td>8.714286</td>\n",
       "      <td>3.646</td>\n",
       "      <td>5.833</td>\n",
       "      <td>6.4</td>\n",
       "      <td>5.5</td>\n",
       "      <td>2.875</td>\n",
       "      <td>10.0</td>\n",
       "      <td>1.900</td>\n",
       "      <td>3.070</td>\n",
       "      <td>5.89</td>\n",
       "      <td>Moderate Risk</td>\n",
       "    </tr>\n",
       "    <tr>\n",
       "      <th>4</th>\n",
       "      <td>2.285714</td>\n",
       "      <td>2.026</td>\n",
       "      <td>3.511</td>\n",
       "      <td>2.8</td>\n",
       "      <td>10.0</td>\n",
       "      <td>8.125</td>\n",
       "      <td>10.0</td>\n",
       "      <td>7.102</td>\n",
       "      <td>2.836</td>\n",
       "      <td>4.83</td>\n",
       "      <td>Moderate Risk</td>\n",
       "    </tr>\n",
       "  </tbody>\n",
       "</table>\n",
       "</div>"
      ],
      "text/plain": [
       "   attendance   cgpa  certificates  internships  extra_curricular  \\\n",
       "0    7.979592  6.832         4.024          4.6               3.7   \n",
       "1    6.142857  3.466         5.887          6.4               1.9   \n",
       "2    3.571429  2.602         2.728          4.6               5.5   \n",
       "3    8.714286  3.646         5.833          6.4               5.5   \n",
       "4    2.285714  2.026         3.511          2.8              10.0   \n",
       "\n",
       "   library_usage  project_involvement  gpa_sem1  gpa_sem2  activity_score  \\\n",
       "0          4.375                  1.0     2.242     5.104            4.80   \n",
       "1          9.625                 10.0     5.374     4.348            6.21   \n",
       "2          3.625                 10.0     8.614     2.026            4.69   \n",
       "3          2.875                 10.0     1.900     3.070            5.89   \n",
       "4          8.125                 10.0     7.102     2.836            4.83   \n",
       "\n",
       "            risk  \n",
       "0  Moderate Risk  \n",
       "1       Low Risk  \n",
       "2  Moderate Risk  \n",
       "3  Moderate Risk  \n",
       "4  Moderate Risk  "
      ]
     },
     "execution_count": 25,
     "metadata": {},
     "output_type": "execute_result"
    }
   ],
   "source": [
    "features.head()"
   ]
  },
  {
   "cell_type": "code",
   "execution_count": 26,
   "id": "e07f2776-20d3-4b42-b896-7e9e4f841943",
   "metadata": {},
   "outputs": [],
   "source": [
    "X = features.drop(columns=['activity_score', 'risk'])\n",
    "y = features['activity_score']"
   ]
  },
  {
   "cell_type": "code",
   "execution_count": 28,
   "id": "bf113047-d0c5-498c-929c-2c47e2619b84",
   "metadata": {},
   "outputs": [],
   "source": [
    "X_train, X_test, y_train, y_test = train_test_split(X, y, test_size=0.2, random_state=42)"
   ]
  },
  {
   "cell_type": "code",
   "execution_count": 29,
   "id": "4e981b6a-fbe3-4eef-8ae7-033ff7ab2338",
   "metadata": {},
   "outputs": [
    {
     "data": {
      "text/html": [
       "<style>#sk-container-id-1 {\n",
       "  /* Definition of color scheme common for light and dark mode */\n",
       "  --sklearn-color-text: black;\n",
       "  --sklearn-color-line: gray;\n",
       "  /* Definition of color scheme for unfitted estimators */\n",
       "  --sklearn-color-unfitted-level-0: #fff5e6;\n",
       "  --sklearn-color-unfitted-level-1: #f6e4d2;\n",
       "  --sklearn-color-unfitted-level-2: #ffe0b3;\n",
       "  --sklearn-color-unfitted-level-3: chocolate;\n",
       "  /* Definition of color scheme for fitted estimators */\n",
       "  --sklearn-color-fitted-level-0: #f0f8ff;\n",
       "  --sklearn-color-fitted-level-1: #d4ebff;\n",
       "  --sklearn-color-fitted-level-2: #b3dbfd;\n",
       "  --sklearn-color-fitted-level-3: cornflowerblue;\n",
       "\n",
       "  /* Specific color for light theme */\n",
       "  --sklearn-color-text-on-default-background: var(--sg-text-color, var(--theme-code-foreground, var(--jp-content-font-color1, black)));\n",
       "  --sklearn-color-background: var(--sg-background-color, var(--theme-background, var(--jp-layout-color0, white)));\n",
       "  --sklearn-color-border-box: var(--sg-text-color, var(--theme-code-foreground, var(--jp-content-font-color1, black)));\n",
       "  --sklearn-color-icon: #696969;\n",
       "\n",
       "  @media (prefers-color-scheme: dark) {\n",
       "    /* Redefinition of color scheme for dark theme */\n",
       "    --sklearn-color-text-on-default-background: var(--sg-text-color, var(--theme-code-foreground, var(--jp-content-font-color1, white)));\n",
       "    --sklearn-color-background: var(--sg-background-color, var(--theme-background, var(--jp-layout-color0, #111)));\n",
       "    --sklearn-color-border-box: var(--sg-text-color, var(--theme-code-foreground, var(--jp-content-font-color1, white)));\n",
       "    --sklearn-color-icon: #878787;\n",
       "  }\n",
       "}\n",
       "\n",
       "#sk-container-id-1 {\n",
       "  color: var(--sklearn-color-text);\n",
       "}\n",
       "\n",
       "#sk-container-id-1 pre {\n",
       "  padding: 0;\n",
       "}\n",
       "\n",
       "#sk-container-id-1 input.sk-hidden--visually {\n",
       "  border: 0;\n",
       "  clip: rect(1px 1px 1px 1px);\n",
       "  clip: rect(1px, 1px, 1px, 1px);\n",
       "  height: 1px;\n",
       "  margin: -1px;\n",
       "  overflow: hidden;\n",
       "  padding: 0;\n",
       "  position: absolute;\n",
       "  width: 1px;\n",
       "}\n",
       "\n",
       "#sk-container-id-1 div.sk-dashed-wrapped {\n",
       "  border: 1px dashed var(--sklearn-color-line);\n",
       "  margin: 0 0.4em 0.5em 0.4em;\n",
       "  box-sizing: border-box;\n",
       "  padding-bottom: 0.4em;\n",
       "  background-color: var(--sklearn-color-background);\n",
       "}\n",
       "\n",
       "#sk-container-id-1 div.sk-container {\n",
       "  /* jupyter's `normalize.less` sets `[hidden] { display: none; }`\n",
       "     but bootstrap.min.css set `[hidden] { display: none !important; }`\n",
       "     so we also need the `!important` here to be able to override the\n",
       "     default hidden behavior on the sphinx rendered scikit-learn.org.\n",
       "     See: https://github.com/scikit-learn/scikit-learn/issues/21755 */\n",
       "  display: inline-block !important;\n",
       "  position: relative;\n",
       "}\n",
       "\n",
       "#sk-container-id-1 div.sk-text-repr-fallback {\n",
       "  display: none;\n",
       "}\n",
       "\n",
       "div.sk-parallel-item,\n",
       "div.sk-serial,\n",
       "div.sk-item {\n",
       "  /* draw centered vertical line to link estimators */\n",
       "  background-image: linear-gradient(var(--sklearn-color-text-on-default-background), var(--sklearn-color-text-on-default-background));\n",
       "  background-size: 2px 100%;\n",
       "  background-repeat: no-repeat;\n",
       "  background-position: center center;\n",
       "}\n",
       "\n",
       "/* Parallel-specific style estimator block */\n",
       "\n",
       "#sk-container-id-1 div.sk-parallel-item::after {\n",
       "  content: \"\";\n",
       "  width: 100%;\n",
       "  border-bottom: 2px solid var(--sklearn-color-text-on-default-background);\n",
       "  flex-grow: 1;\n",
       "}\n",
       "\n",
       "#sk-container-id-1 div.sk-parallel {\n",
       "  display: flex;\n",
       "  align-items: stretch;\n",
       "  justify-content: center;\n",
       "  background-color: var(--sklearn-color-background);\n",
       "  position: relative;\n",
       "}\n",
       "\n",
       "#sk-container-id-1 div.sk-parallel-item {\n",
       "  display: flex;\n",
       "  flex-direction: column;\n",
       "}\n",
       "\n",
       "#sk-container-id-1 div.sk-parallel-item:first-child::after {\n",
       "  align-self: flex-end;\n",
       "  width: 50%;\n",
       "}\n",
       "\n",
       "#sk-container-id-1 div.sk-parallel-item:last-child::after {\n",
       "  align-self: flex-start;\n",
       "  width: 50%;\n",
       "}\n",
       "\n",
       "#sk-container-id-1 div.sk-parallel-item:only-child::after {\n",
       "  width: 0;\n",
       "}\n",
       "\n",
       "/* Serial-specific style estimator block */\n",
       "\n",
       "#sk-container-id-1 div.sk-serial {\n",
       "  display: flex;\n",
       "  flex-direction: column;\n",
       "  align-items: center;\n",
       "  background-color: var(--sklearn-color-background);\n",
       "  padding-right: 1em;\n",
       "  padding-left: 1em;\n",
       "}\n",
       "\n",
       "\n",
       "/* Toggleable style: style used for estimator/Pipeline/ColumnTransformer box that is\n",
       "clickable and can be expanded/collapsed.\n",
       "- Pipeline and ColumnTransformer use this feature and define the default style\n",
       "- Estimators will overwrite some part of the style using the `sk-estimator` class\n",
       "*/\n",
       "\n",
       "/* Pipeline and ColumnTransformer style (default) */\n",
       "\n",
       "#sk-container-id-1 div.sk-toggleable {\n",
       "  /* Default theme specific background. It is overwritten whether we have a\n",
       "  specific estimator or a Pipeline/ColumnTransformer */\n",
       "  background-color: var(--sklearn-color-background);\n",
       "}\n",
       "\n",
       "/* Toggleable label */\n",
       "#sk-container-id-1 label.sk-toggleable__label {\n",
       "  cursor: pointer;\n",
       "  display: block;\n",
       "  width: 100%;\n",
       "  margin-bottom: 0;\n",
       "  padding: 0.5em;\n",
       "  box-sizing: border-box;\n",
       "  text-align: center;\n",
       "}\n",
       "\n",
       "#sk-container-id-1 label.sk-toggleable__label-arrow:before {\n",
       "  /* Arrow on the left of the label */\n",
       "  content: \"▸\";\n",
       "  float: left;\n",
       "  margin-right: 0.25em;\n",
       "  color: var(--sklearn-color-icon);\n",
       "}\n",
       "\n",
       "#sk-container-id-1 label.sk-toggleable__label-arrow:hover:before {\n",
       "  color: var(--sklearn-color-text);\n",
       "}\n",
       "\n",
       "/* Toggleable content - dropdown */\n",
       "\n",
       "#sk-container-id-1 div.sk-toggleable__content {\n",
       "  max-height: 0;\n",
       "  max-width: 0;\n",
       "  overflow: hidden;\n",
       "  text-align: left;\n",
       "  /* unfitted */\n",
       "  background-color: var(--sklearn-color-unfitted-level-0);\n",
       "}\n",
       "\n",
       "#sk-container-id-1 div.sk-toggleable__content.fitted {\n",
       "  /* fitted */\n",
       "  background-color: var(--sklearn-color-fitted-level-0);\n",
       "}\n",
       "\n",
       "#sk-container-id-1 div.sk-toggleable__content pre {\n",
       "  margin: 0.2em;\n",
       "  border-radius: 0.25em;\n",
       "  color: var(--sklearn-color-text);\n",
       "  /* unfitted */\n",
       "  background-color: var(--sklearn-color-unfitted-level-0);\n",
       "}\n",
       "\n",
       "#sk-container-id-1 div.sk-toggleable__content.fitted pre {\n",
       "  /* unfitted */\n",
       "  background-color: var(--sklearn-color-fitted-level-0);\n",
       "}\n",
       "\n",
       "#sk-container-id-1 input.sk-toggleable__control:checked~div.sk-toggleable__content {\n",
       "  /* Expand drop-down */\n",
       "  max-height: 200px;\n",
       "  max-width: 100%;\n",
       "  overflow: auto;\n",
       "}\n",
       "\n",
       "#sk-container-id-1 input.sk-toggleable__control:checked~label.sk-toggleable__label-arrow:before {\n",
       "  content: \"▾\";\n",
       "}\n",
       "\n",
       "/* Pipeline/ColumnTransformer-specific style */\n",
       "\n",
       "#sk-container-id-1 div.sk-label input.sk-toggleable__control:checked~label.sk-toggleable__label {\n",
       "  color: var(--sklearn-color-text);\n",
       "  background-color: var(--sklearn-color-unfitted-level-2);\n",
       "}\n",
       "\n",
       "#sk-container-id-1 div.sk-label.fitted input.sk-toggleable__control:checked~label.sk-toggleable__label {\n",
       "  background-color: var(--sklearn-color-fitted-level-2);\n",
       "}\n",
       "\n",
       "/* Estimator-specific style */\n",
       "\n",
       "/* Colorize estimator box */\n",
       "#sk-container-id-1 div.sk-estimator input.sk-toggleable__control:checked~label.sk-toggleable__label {\n",
       "  /* unfitted */\n",
       "  background-color: var(--sklearn-color-unfitted-level-2);\n",
       "}\n",
       "\n",
       "#sk-container-id-1 div.sk-estimator.fitted input.sk-toggleable__control:checked~label.sk-toggleable__label {\n",
       "  /* fitted */\n",
       "  background-color: var(--sklearn-color-fitted-level-2);\n",
       "}\n",
       "\n",
       "#sk-container-id-1 div.sk-label label.sk-toggleable__label,\n",
       "#sk-container-id-1 div.sk-label label {\n",
       "  /* The background is the default theme color */\n",
       "  color: var(--sklearn-color-text-on-default-background);\n",
       "}\n",
       "\n",
       "/* On hover, darken the color of the background */\n",
       "#sk-container-id-1 div.sk-label:hover label.sk-toggleable__label {\n",
       "  color: var(--sklearn-color-text);\n",
       "  background-color: var(--sklearn-color-unfitted-level-2);\n",
       "}\n",
       "\n",
       "/* Label box, darken color on hover, fitted */\n",
       "#sk-container-id-1 div.sk-label.fitted:hover label.sk-toggleable__label.fitted {\n",
       "  color: var(--sklearn-color-text);\n",
       "  background-color: var(--sklearn-color-fitted-level-2);\n",
       "}\n",
       "\n",
       "/* Estimator label */\n",
       "\n",
       "#sk-container-id-1 div.sk-label label {\n",
       "  font-family: monospace;\n",
       "  font-weight: bold;\n",
       "  display: inline-block;\n",
       "  line-height: 1.2em;\n",
       "}\n",
       "\n",
       "#sk-container-id-1 div.sk-label-container {\n",
       "  text-align: center;\n",
       "}\n",
       "\n",
       "/* Estimator-specific */\n",
       "#sk-container-id-1 div.sk-estimator {\n",
       "  font-family: monospace;\n",
       "  border: 1px dotted var(--sklearn-color-border-box);\n",
       "  border-radius: 0.25em;\n",
       "  box-sizing: border-box;\n",
       "  margin-bottom: 0.5em;\n",
       "  /* unfitted */\n",
       "  background-color: var(--sklearn-color-unfitted-level-0);\n",
       "}\n",
       "\n",
       "#sk-container-id-1 div.sk-estimator.fitted {\n",
       "  /* fitted */\n",
       "  background-color: var(--sklearn-color-fitted-level-0);\n",
       "}\n",
       "\n",
       "/* on hover */\n",
       "#sk-container-id-1 div.sk-estimator:hover {\n",
       "  /* unfitted */\n",
       "  background-color: var(--sklearn-color-unfitted-level-2);\n",
       "}\n",
       "\n",
       "#sk-container-id-1 div.sk-estimator.fitted:hover {\n",
       "  /* fitted */\n",
       "  background-color: var(--sklearn-color-fitted-level-2);\n",
       "}\n",
       "\n",
       "/* Specification for estimator info (e.g. \"i\" and \"?\") */\n",
       "\n",
       "/* Common style for \"i\" and \"?\" */\n",
       "\n",
       ".sk-estimator-doc-link,\n",
       "a:link.sk-estimator-doc-link,\n",
       "a:visited.sk-estimator-doc-link {\n",
       "  float: right;\n",
       "  font-size: smaller;\n",
       "  line-height: 1em;\n",
       "  font-family: monospace;\n",
       "  background-color: var(--sklearn-color-background);\n",
       "  border-radius: 1em;\n",
       "  height: 1em;\n",
       "  width: 1em;\n",
       "  text-decoration: none !important;\n",
       "  margin-left: 1ex;\n",
       "  /* unfitted */\n",
       "  border: var(--sklearn-color-unfitted-level-1) 1pt solid;\n",
       "  color: var(--sklearn-color-unfitted-level-1);\n",
       "}\n",
       "\n",
       ".sk-estimator-doc-link.fitted,\n",
       "a:link.sk-estimator-doc-link.fitted,\n",
       "a:visited.sk-estimator-doc-link.fitted {\n",
       "  /* fitted */\n",
       "  border: var(--sklearn-color-fitted-level-1) 1pt solid;\n",
       "  color: var(--sklearn-color-fitted-level-1);\n",
       "}\n",
       "\n",
       "/* On hover */\n",
       "div.sk-estimator:hover .sk-estimator-doc-link:hover,\n",
       ".sk-estimator-doc-link:hover,\n",
       "div.sk-label-container:hover .sk-estimator-doc-link:hover,\n",
       ".sk-estimator-doc-link:hover {\n",
       "  /* unfitted */\n",
       "  background-color: var(--sklearn-color-unfitted-level-3);\n",
       "  color: var(--sklearn-color-background);\n",
       "  text-decoration: none;\n",
       "}\n",
       "\n",
       "div.sk-estimator.fitted:hover .sk-estimator-doc-link.fitted:hover,\n",
       ".sk-estimator-doc-link.fitted:hover,\n",
       "div.sk-label-container:hover .sk-estimator-doc-link.fitted:hover,\n",
       ".sk-estimator-doc-link.fitted:hover {\n",
       "  /* fitted */\n",
       "  background-color: var(--sklearn-color-fitted-level-3);\n",
       "  color: var(--sklearn-color-background);\n",
       "  text-decoration: none;\n",
       "}\n",
       "\n",
       "/* Span, style for the box shown on hovering the info icon */\n",
       ".sk-estimator-doc-link span {\n",
       "  display: none;\n",
       "  z-index: 9999;\n",
       "  position: relative;\n",
       "  font-weight: normal;\n",
       "  right: .2ex;\n",
       "  padding: .5ex;\n",
       "  margin: .5ex;\n",
       "  width: min-content;\n",
       "  min-width: 20ex;\n",
       "  max-width: 50ex;\n",
       "  color: var(--sklearn-color-text);\n",
       "  box-shadow: 2pt 2pt 4pt #999;\n",
       "  /* unfitted */\n",
       "  background: var(--sklearn-color-unfitted-level-0);\n",
       "  border: .5pt solid var(--sklearn-color-unfitted-level-3);\n",
       "}\n",
       "\n",
       ".sk-estimator-doc-link.fitted span {\n",
       "  /* fitted */\n",
       "  background: var(--sklearn-color-fitted-level-0);\n",
       "  border: var(--sklearn-color-fitted-level-3);\n",
       "}\n",
       "\n",
       ".sk-estimator-doc-link:hover span {\n",
       "  display: block;\n",
       "}\n",
       "\n",
       "/* \"?\"-specific style due to the `<a>` HTML tag */\n",
       "\n",
       "#sk-container-id-1 a.estimator_doc_link {\n",
       "  float: right;\n",
       "  font-size: 1rem;\n",
       "  line-height: 1em;\n",
       "  font-family: monospace;\n",
       "  background-color: var(--sklearn-color-background);\n",
       "  border-radius: 1rem;\n",
       "  height: 1rem;\n",
       "  width: 1rem;\n",
       "  text-decoration: none;\n",
       "  /* unfitted */\n",
       "  color: var(--sklearn-color-unfitted-level-1);\n",
       "  border: var(--sklearn-color-unfitted-level-1) 1pt solid;\n",
       "}\n",
       "\n",
       "#sk-container-id-1 a.estimator_doc_link.fitted {\n",
       "  /* fitted */\n",
       "  border: var(--sklearn-color-fitted-level-1) 1pt solid;\n",
       "  color: var(--sklearn-color-fitted-level-1);\n",
       "}\n",
       "\n",
       "/* On hover */\n",
       "#sk-container-id-1 a.estimator_doc_link:hover {\n",
       "  /* unfitted */\n",
       "  background-color: var(--sklearn-color-unfitted-level-3);\n",
       "  color: var(--sklearn-color-background);\n",
       "  text-decoration: none;\n",
       "}\n",
       "\n",
       "#sk-container-id-1 a.estimator_doc_link.fitted:hover {\n",
       "  /* fitted */\n",
       "  background-color: var(--sklearn-color-fitted-level-3);\n",
       "}\n",
       "</style><div id=\"sk-container-id-1\" class=\"sk-top-container\"><div class=\"sk-text-repr-fallback\"><pre>RandomForestRegressor(random_state=42)</pre><b>In a Jupyter environment, please rerun this cell to show the HTML representation or trust the notebook. <br />On GitHub, the HTML representation is unable to render, please try loading this page with nbviewer.org.</b></div><div class=\"sk-container\" hidden><div class=\"sk-item\"><div class=\"sk-estimator fitted sk-toggleable\"><input class=\"sk-toggleable__control sk-hidden--visually\" id=\"sk-estimator-id-1\" type=\"checkbox\" checked><label for=\"sk-estimator-id-1\" class=\"sk-toggleable__label fitted sk-toggleable__label-arrow fitted\">&nbsp;&nbsp;RandomForestRegressor<a class=\"sk-estimator-doc-link fitted\" rel=\"noreferrer\" target=\"_blank\" href=\"https://scikit-learn.org/1.4/modules/generated/sklearn.ensemble.RandomForestRegressor.html\">?<span>Documentation for RandomForestRegressor</span></a><span class=\"sk-estimator-doc-link fitted\">i<span>Fitted</span></span></label><div class=\"sk-toggleable__content fitted\"><pre>RandomForestRegressor(random_state=42)</pre></div> </div></div></div></div>"
      ],
      "text/plain": [
       "RandomForestRegressor(random_state=42)"
      ]
     },
     "execution_count": 29,
     "metadata": {},
     "output_type": "execute_result"
    }
   ],
   "source": [
    "rfr = RandomForestRegressor(n_estimators=100, random_state=42)\n",
    "rfr.fit(X_train, y_train)"
   ]
  },
  {
   "cell_type": "code",
   "execution_count": 31,
   "id": "adb7e88a-f82e-4b4c-87e3-959cee6941cd",
   "metadata": {},
   "outputs": [],
   "source": [
    "y_pred = rfr.predict(X_test)"
   ]
  },
  {
   "cell_type": "code",
   "execution_count": 32,
   "id": "497b64db-3318-4014-8b74-d772e8657442",
   "metadata": {},
   "outputs": [
    {
     "name": "stdout",
     "output_type": "stream",
     "text": [
      "Mean Squared Error: 0.05\n",
      "R² Score: 0.96\n"
     ]
    }
   ],
   "source": [
    "mse = mean_squared_error(y_test, y_pred)\n",
    "r2 = r2_score(y_test, y_pred)\n",
    "\n",
    "print(f\"Mean Squared Error: {mse:.2f}\")\n",
    "print(f\"R² Score: {r2:.2f}\")"
   ]
  },
  {
   "cell_type": "code",
   "execution_count": 33,
   "id": "c2bc828e-e8f1-4e0a-b269-784563eb308a",
   "metadata": {},
   "outputs": [],
   "source": [
    "X = features.drop(columns=['risk'])\n",
    "y = features['risk']"
   ]
  },
  {
   "cell_type": "code",
   "execution_count": 36,
   "id": "9465bff9-f7bc-450c-af5e-7499ca828ca0",
   "metadata": {},
   "outputs": [
    {
     "name": "stdout",
     "output_type": "stream",
     "text": [
      "Label mapping: {'High Risk': 0, 'Low Risk': 1, 'Moderate Risk': 2, 'Very High Risk': 3, 'Very Low Risk': 4}\n"
     ]
    }
   ],
   "source": [
    "le = LabelEncoder()\n",
    "y_encoded = le.fit_transform(y)\n",
    "\n",
    "label_mapping = dict(zip(le.classes_, le.transform(le.classes_)))\n",
    "print(\"Label mapping:\", label_mapping)"
   ]
  },
  {
   "cell_type": "code",
   "execution_count": 38,
   "id": "1db72dbc-45a0-4e50-8bce-4891e648e740",
   "metadata": {},
   "outputs": [],
   "source": [
    "X_train, X_test, y_train, y_test = train_test_split(X, y_encoded, test_size=0.2, random_state=42)"
   ]
  },
  {
   "cell_type": "code",
   "execution_count": null,
   "id": "ba90142e-ba57-4dc2-90d0-da369cd3f301",
   "metadata": {},
   "outputs": [],
   "source": []
  }
 ],
 "metadata": {
  "kernelspec": {
   "display_name": "Python 3 (ipykernel)",
   "language": "python",
   "name": "python3"
  },
  "language_info": {
   "codemirror_mode": {
    "name": "ipython",
    "version": 3
   },
   "file_extension": ".py",
   "mimetype": "text/x-python",
   "name": "python",
   "nbconvert_exporter": "python",
   "pygments_lexer": "ipython3",
   "version": "3.12.7"
  }
 },
 "nbformat": 4,
 "nbformat_minor": 5
}
